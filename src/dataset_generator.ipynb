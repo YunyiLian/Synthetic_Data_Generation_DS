{
 "cells": [
  {
   "cell_type": "code",
   "execution_count": 1,
   "id": "e3e1b9a9",
   "metadata": {},
   "outputs": [],
   "source": [
    "# pip install names"
   ]
  },
  {
   "cell_type": "code",
   "execution_count": 2,
   "id": "38a062d0",
   "metadata": {},
   "outputs": [],
   "source": [
    "import random\n",
    "import time\n",
    "from datetime import date\n",
    "from dateutil.relativedelta import relativedelta\n",
    "import pandas as pd\n",
    "import names\n",
    "import numpy as np\n",
    "import math"
   ]
  },
  {
   "cell_type": "code",
   "execution_count": 3,
   "id": "bb9e2be6",
   "metadata": {},
   "outputs": [],
   "source": [
    "sample_size = 50000"
   ]
  },
  {
   "cell_type": "code",
   "execution_count": 4,
   "id": "02033a62",
   "metadata": {},
   "outputs": [],
   "source": [
    "def str_time_prop(start, end, time_format, prop):\n",
    "    \"\"\"\n",
    "    Get a time at a proportion of a range of two formatted times.\n",
    "\n",
    "    start and end should be strings specifying times formatted in the\n",
    "    given format (strftime-style), giving an interval [start, end].\n",
    "    prop specifies how a proportion of the interval to be taken after\n",
    "    start.  The returned time will be in the specified format.\n",
    "    \"\"\"\n",
    "\n",
    "    stime = time.mktime(time.strptime(start, time_format))\n",
    "    etime = time.mktime(time.strptime(end, time_format))\n",
    "\n",
    "    ptime = stime + prop * (etime - stime)\n",
    "\n",
    "    return time.strftime(time_format, time.localtime(ptime))\n",
    "\n",
    "\n",
    "def random_date(start, end):\n",
    "    return str_time_prop(start, end, '%Y-%m-%d', random.random())\n",
    "\n",
    "def get_expiry_date(old_date):\n",
    "    year = int(old_date[:4])\n",
    "    month = int(old_date[5:7])\n",
    "    day = int(old_date[8:10])\n",
    "    return date(year, month, day) + relativedelta(years=5)\n",
    "\n",
    "def get_birth_date(old_date):\n",
    "    year = int(old_date[:4])\n",
    "    month = int(old_date[5:7])\n",
    "    day = int(old_date[8:10])\n",
    "    \n",
    "    start = date(year, month, day) - relativedelta(years=100)\n",
    "    end = date(year, month, day) - relativedelta(years=18)\n",
    "    \n",
    "    return str_time_prop(str(start), str(end), '%Y-%m-%d', random.random())"
   ]
  },
  {
   "cell_type": "code",
   "execution_count": 5,
   "id": "8f5cfe16",
   "metadata": {},
   "outputs": [],
   "source": [
    "def data_generator(sample_size):\n",
    "#     name = []\n",
    "    date_of_birth = []\n",
    "    opening_date = []\n",
    "    expiry_date = []\n",
    "    limit = []\n",
    "    balance = []\n",
    "    available_credit = []\n",
    "    for i in range(sample_size):\n",
    "#         name.append(names.get_full_name())\n",
    "        opening_date.append(random_date('2000-01-01', '2022-12-31'))\n",
    "        expiry_date.append(get_expiry_date(opening_date[i]))\n",
    "        \n",
    "        date_of_birth.append(get_birth_date(opening_date[i]))\n",
    "        \n",
    "        limit.append(float(random.randrange(500, 100001, 500)))\n",
    "        balance.append(round(random.uniform(0, limit[i]), 2))\n",
    "        available_credit.append(limit[i] - balance[i])\n",
    "#     data = pd.DataFrame(list(zip(name, date_of_birth, opening_date, expiry_date, limit, balance, available_credit)),\n",
    "#                         columns = ['Name', 'Date_of_birth', 'Opening_date', 'Expiry_date', 'Credit_limit', 'Statement_balance', 'Available_credit'])\n",
    "    data = pd.DataFrame(list(zip(date_of_birth, opening_date, expiry_date, limit, balance, available_credit)),\n",
    "                        columns = ['Date_of_birth', 'Opening_date', 'Expiry_date', 'Credit_limit', 'Statement_balance', 'Available_credit'])\n",
    "    return data"
   ]
  },
  {
   "cell_type": "code",
   "execution_count": 6,
   "id": "05fa0382",
   "metadata": {},
   "outputs": [],
   "source": [
    "data = data_generator(sample_size)"
   ]
  },
  {
   "cell_type": "code",
   "execution_count": 7,
   "id": "7aff8aa3",
   "metadata": {},
   "outputs": [],
   "source": [
    "data['Opening_date'] = data['Opening_date'].astype(str)\n",
    "data['Expiry_date'] = data['Expiry_date'].astype(str)"
   ]
  },
  {
   "cell_type": "code",
   "execution_count": 8,
   "id": "f1dd45c2",
   "metadata": {},
   "outputs": [],
   "source": [
    "data['Opening'] = data['Opening_date'].apply(lambda x: x.replace('-', ''))\n",
    "data['Expiry'] = data['Expiry_date'].apply(lambda x: x.replace('-', ''))\n",
    "data['Client_id'] = data['Opening'] + data['Expiry']\n",
    "data['Client_id'] = data['Client_id'].apply(lambda x: int(x))\n",
    "data['Opening'] = data['Opening'].apply(lambda x: int(x))\n",
    "data['Expiry'] = data['Expiry'].apply(lambda x: int(x))\n",
    "\n",
    "data = data[['Client_id', 'Date_of_birth', 'Opening_date', 'Expiry_date', 'Credit_limit', 'Statement_balance', 'Available_credit', 'Opening', 'Expiry']]"
   ]
  },
  {
   "cell_type": "code",
   "execution_count": 9,
   "id": "c5b8d100",
   "metadata": {},
   "outputs": [
    {
     "data": {
      "text/plain": [
       "Client_id              int64\n",
       "Date_of_birth         object\n",
       "Opening_date          object\n",
       "Expiry_date           object\n",
       "Credit_limit         float64\n",
       "Statement_balance    float64\n",
       "Available_credit     float64\n",
       "Opening                int64\n",
       "Expiry                 int64\n",
       "dtype: object"
      ]
     },
     "execution_count": 9,
     "metadata": {},
     "output_type": "execute_result"
    }
   ],
   "source": [
    "data.dtypes"
   ]
  },
  {
   "cell_type": "code",
   "execution_count": 10,
   "id": "389c2f07",
   "metadata": {},
   "outputs": [
    {
     "data": {
      "text/html": [
       "<div>\n",
       "<style scoped>\n",
       "    .dataframe tbody tr th:only-of-type {\n",
       "        vertical-align: middle;\n",
       "    }\n",
       "\n",
       "    .dataframe tbody tr th {\n",
       "        vertical-align: top;\n",
       "    }\n",
       "\n",
       "    .dataframe thead th {\n",
       "        text-align: right;\n",
       "    }\n",
       "</style>\n",
       "<table border=\"1\" class=\"dataframe\">\n",
       "  <thead>\n",
       "    <tr style=\"text-align: right;\">\n",
       "      <th></th>\n",
       "      <th>Client_id</th>\n",
       "      <th>Date_of_birth</th>\n",
       "      <th>Opening_date</th>\n",
       "      <th>Expiry_date</th>\n",
       "      <th>Credit_limit</th>\n",
       "      <th>Statement_balance</th>\n",
       "      <th>Available_credit</th>\n",
       "      <th>Opening</th>\n",
       "      <th>Expiry</th>\n",
       "    </tr>\n",
       "  </thead>\n",
       "  <tbody>\n",
       "    <tr>\n",
       "      <th>0</th>\n",
       "      <td>2010102320151023</td>\n",
       "      <td>1937-02-02</td>\n",
       "      <td>2010-10-23</td>\n",
       "      <td>2015-10-23</td>\n",
       "      <td>82500.0</td>\n",
       "      <td>49668.48</td>\n",
       "      <td>32831.52</td>\n",
       "      <td>20101023</td>\n",
       "      <td>20151023</td>\n",
       "    </tr>\n",
       "    <tr>\n",
       "      <th>1</th>\n",
       "      <td>2006030920110309</td>\n",
       "      <td>1950-10-14</td>\n",
       "      <td>2006-03-09</td>\n",
       "      <td>2011-03-09</td>\n",
       "      <td>40500.0</td>\n",
       "      <td>26136.40</td>\n",
       "      <td>14363.60</td>\n",
       "      <td>20060309</td>\n",
       "      <td>20110309</td>\n",
       "    </tr>\n",
       "    <tr>\n",
       "      <th>2</th>\n",
       "      <td>2006012920110129</td>\n",
       "      <td>1961-05-20</td>\n",
       "      <td>2006-01-29</td>\n",
       "      <td>2011-01-29</td>\n",
       "      <td>20500.0</td>\n",
       "      <td>8911.67</td>\n",
       "      <td>11588.33</td>\n",
       "      <td>20060129</td>\n",
       "      <td>20110129</td>\n",
       "    </tr>\n",
       "    <tr>\n",
       "      <th>3</th>\n",
       "      <td>2001080220060802</td>\n",
       "      <td>1940-08-16</td>\n",
       "      <td>2001-08-02</td>\n",
       "      <td>2006-08-02</td>\n",
       "      <td>55000.0</td>\n",
       "      <td>17091.77</td>\n",
       "      <td>37908.23</td>\n",
       "      <td>20010802</td>\n",
       "      <td>20060802</td>\n",
       "    </tr>\n",
       "    <tr>\n",
       "      <th>4</th>\n",
       "      <td>2016082420210824</td>\n",
       "      <td>1957-04-28</td>\n",
       "      <td>2016-08-24</td>\n",
       "      <td>2021-08-24</td>\n",
       "      <td>20500.0</td>\n",
       "      <td>11822.77</td>\n",
       "      <td>8677.23</td>\n",
       "      <td>20160824</td>\n",
       "      <td>20210824</td>\n",
       "    </tr>\n",
       "  </tbody>\n",
       "</table>\n",
       "</div>"
      ],
      "text/plain": [
       "          Client_id Date_of_birth Opening_date Expiry_date  Credit_limit  \\\n",
       "0  2010102320151023    1937-02-02   2010-10-23  2015-10-23       82500.0   \n",
       "1  2006030920110309    1950-10-14   2006-03-09  2011-03-09       40500.0   \n",
       "2  2006012920110129    1961-05-20   2006-01-29  2011-01-29       20500.0   \n",
       "3  2001080220060802    1940-08-16   2001-08-02  2006-08-02       55000.0   \n",
       "4  2016082420210824    1957-04-28   2016-08-24  2021-08-24       20500.0   \n",
       "\n",
       "   Statement_balance  Available_credit   Opening    Expiry  \n",
       "0           49668.48          32831.52  20101023  20151023  \n",
       "1           26136.40          14363.60  20060309  20110309  \n",
       "2            8911.67          11588.33  20060129  20110129  \n",
       "3           17091.77          37908.23  20010802  20060802  \n",
       "4           11822.77           8677.23  20160824  20210824  "
      ]
     },
     "execution_count": 10,
     "metadata": {},
     "output_type": "execute_result"
    }
   ],
   "source": [
    "data.head()"
   ]
  },
  {
   "cell_type": "code",
   "execution_count": 11,
   "id": "cc922c26",
   "metadata": {},
   "outputs": [],
   "source": [
    "data.to_csv('data_50000.csv', index=False)"
   ]
  }
 ],
 "metadata": {
  "kernelspec": {
   "display_name": "Python 3 (ipykernel)",
   "language": "python",
   "name": "python3"
  },
  "language_info": {
   "codemirror_mode": {
    "name": "ipython",
    "version": 3
   },
   "file_extension": ".py",
   "mimetype": "text/x-python",
   "name": "python",
   "nbconvert_exporter": "python",
   "pygments_lexer": "ipython3",
   "version": "3.9.13"
  }
 },
 "nbformat": 4,
 "nbformat_minor": 5
}
