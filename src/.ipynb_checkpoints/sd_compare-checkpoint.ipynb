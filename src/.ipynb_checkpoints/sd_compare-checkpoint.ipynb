{
 "cells": [
  {
   "cell_type": "markdown",
   "id": "200b1936",
   "metadata": {},
   "source": [
    "# Import Packages"
   ]
  },
  {
   "cell_type": "code",
   "execution_count": 1,
   "id": "245fae1d",
   "metadata": {
    "scrolled": true
   },
   "outputs": [],
   "source": [
    "# pip install sdv"
   ]
  },
  {
   "cell_type": "code",
   "execution_count": 2,
   "id": "dc2378a0",
   "metadata": {},
   "outputs": [],
   "source": [
    "import numpy as np\n",
    "import pandas as pd\n",
    "from datetime import datetime as dt\n",
    "import re\n",
    "import time\n",
    "from sdv.tabular import GaussianCopula, CTGAN, CopulaGAN, TVAE\n",
    "from sdv.constraints import Inequality, create_custom_constraint\n",
    "from copy import deepcopy\n",
    "import warnings\n",
    "from itertools import combinations\n",
    "from sd_generator import SD_generator"
   ]
  },
  {
   "cell_type": "code",
   "execution_count": 3,
   "id": "d5dc527f",
   "metadata": {},
   "outputs": [],
   "source": [
    "warnings.filterwarnings(\"ignore\")"
   ]
  },
  {
   "cell_type": "markdown",
   "id": "a649cef2",
   "metadata": {},
   "source": [
    "# Prepare Data"
   ]
  },
  {
   "cell_type": "code",
   "execution_count": 4,
   "id": "5288f8ed",
   "metadata": {},
   "outputs": [
    {
     "data": {
      "text/html": [
       "<div>\n",
       "<style scoped>\n",
       "    .dataframe tbody tr th:only-of-type {\n",
       "        vertical-align: middle;\n",
       "    }\n",
       "\n",
       "    .dataframe tbody tr th {\n",
       "        vertical-align: top;\n",
       "    }\n",
       "\n",
       "    .dataframe thead th {\n",
       "        text-align: right;\n",
       "    }\n",
       "</style>\n",
       "<table border=\"1\" class=\"dataframe\">\n",
       "  <thead>\n",
       "    <tr style=\"text-align: right;\">\n",
       "      <th></th>\n",
       "      <th>Date_of_birth</th>\n",
       "      <th>Opening_date</th>\n",
       "      <th>Expiry_date</th>\n",
       "      <th>Credit_limit</th>\n",
       "      <th>Statement_balance</th>\n",
       "      <th>Available_credit</th>\n",
       "    </tr>\n",
       "  </thead>\n",
       "  <tbody>\n",
       "    <tr>\n",
       "      <th>0</th>\n",
       "      <td>1949-08-17</td>\n",
       "      <td>2008-09-02</td>\n",
       "      <td>2013-09-02</td>\n",
       "      <td>38000.0</td>\n",
       "      <td>29297.69</td>\n",
       "      <td>8702.31</td>\n",
       "    </tr>\n",
       "    <tr>\n",
       "      <th>1</th>\n",
       "      <td>1938-07-04</td>\n",
       "      <td>2019-09-08</td>\n",
       "      <td>2024-09-08</td>\n",
       "      <td>19500.0</td>\n",
       "      <td>15628.50</td>\n",
       "      <td>3871.50</td>\n",
       "    </tr>\n",
       "    <tr>\n",
       "      <th>2</th>\n",
       "      <td>1927-03-28</td>\n",
       "      <td>2019-04-23</td>\n",
       "      <td>2024-04-23</td>\n",
       "      <td>11500.0</td>\n",
       "      <td>7388.34</td>\n",
       "      <td>4111.66</td>\n",
       "    </tr>\n",
       "    <tr>\n",
       "      <th>3</th>\n",
       "      <td>1936-01-17</td>\n",
       "      <td>2021-10-27</td>\n",
       "      <td>2026-10-27</td>\n",
       "      <td>68500.0</td>\n",
       "      <td>32060.39</td>\n",
       "      <td>36439.61</td>\n",
       "    </tr>\n",
       "    <tr>\n",
       "      <th>4</th>\n",
       "      <td>1960-09-05</td>\n",
       "      <td>2010-10-02</td>\n",
       "      <td>2015-10-02</td>\n",
       "      <td>72000.0</td>\n",
       "      <td>56148.13</td>\n",
       "      <td>15851.87</td>\n",
       "    </tr>\n",
       "  </tbody>\n",
       "</table>\n",
       "</div>"
      ],
      "text/plain": [
       "  Date_of_birth Opening_date Expiry_date  Credit_limit  Statement_balance  \\\n",
       "0    1949-08-17   2008-09-02  2013-09-02       38000.0           29297.69   \n",
       "1    1938-07-04   2019-09-08  2024-09-08       19500.0           15628.50   \n",
       "2    1927-03-28   2019-04-23  2024-04-23       11500.0            7388.34   \n",
       "3    1936-01-17   2021-10-27  2026-10-27       68500.0           32060.39   \n",
       "4    1960-09-05   2010-10-02  2015-10-02       72000.0           56148.13   \n",
       "\n",
       "   Available_credit  \n",
       "0           8702.31  \n",
       "1           3871.50  \n",
       "2           4111.66  \n",
       "3          36439.61  \n",
       "4          15851.87  "
      ]
     },
     "execution_count": 4,
     "metadata": {},
     "output_type": "execute_result"
    }
   ],
   "source": [
    "data = pd.read_csv('data.csv')\n",
    "data.drop(columns=['Name'], axis=1, inplace=True)\n",
    "data.head()"
   ]
  },
  {
   "cell_type": "code",
   "execution_count": 5,
   "id": "9a8a6ddd",
   "metadata": {
    "scrolled": true
   },
   "outputs": [
    {
     "data": {
      "text/html": [
       "<div>\n",
       "<style scoped>\n",
       "    .dataframe tbody tr th:only-of-type {\n",
       "        vertical-align: middle;\n",
       "    }\n",
       "\n",
       "    .dataframe tbody tr th {\n",
       "        vertical-align: top;\n",
       "    }\n",
       "\n",
       "    .dataframe thead th {\n",
       "        text-align: right;\n",
       "    }\n",
       "</style>\n",
       "<table border=\"1\" class=\"dataframe\">\n",
       "  <thead>\n",
       "    <tr style=\"text-align: right;\">\n",
       "      <th></th>\n",
       "      <th>Client_id</th>\n",
       "      <th>Date_of_birth</th>\n",
       "      <th>Opening_date</th>\n",
       "      <th>Expiry_date</th>\n",
       "      <th>Credit_limit</th>\n",
       "      <th>Statement_balance</th>\n",
       "      <th>Available_credit</th>\n",
       "      <th>Opening</th>\n",
       "      <th>Expiry</th>\n",
       "    </tr>\n",
       "  </thead>\n",
       "  <tbody>\n",
       "    <tr>\n",
       "      <th>0</th>\n",
       "      <td>2008090220130902</td>\n",
       "      <td>1949-08-17</td>\n",
       "      <td>2008-09-02</td>\n",
       "      <td>2013-09-02</td>\n",
       "      <td>38000.0</td>\n",
       "      <td>29297.69</td>\n",
       "      <td>8702.31</td>\n",
       "      <td>20080902</td>\n",
       "      <td>20130902</td>\n",
       "    </tr>\n",
       "    <tr>\n",
       "      <th>1</th>\n",
       "      <td>2019090820240908</td>\n",
       "      <td>1938-07-04</td>\n",
       "      <td>2019-09-08</td>\n",
       "      <td>2024-09-08</td>\n",
       "      <td>19500.0</td>\n",
       "      <td>15628.50</td>\n",
       "      <td>3871.50</td>\n",
       "      <td>20190908</td>\n",
       "      <td>20240908</td>\n",
       "    </tr>\n",
       "    <tr>\n",
       "      <th>2</th>\n",
       "      <td>2019042320240423</td>\n",
       "      <td>1927-03-28</td>\n",
       "      <td>2019-04-23</td>\n",
       "      <td>2024-04-23</td>\n",
       "      <td>11500.0</td>\n",
       "      <td>7388.34</td>\n",
       "      <td>4111.66</td>\n",
       "      <td>20190423</td>\n",
       "      <td>20240423</td>\n",
       "    </tr>\n",
       "    <tr>\n",
       "      <th>3</th>\n",
       "      <td>2021102720261027</td>\n",
       "      <td>1936-01-17</td>\n",
       "      <td>2021-10-27</td>\n",
       "      <td>2026-10-27</td>\n",
       "      <td>68500.0</td>\n",
       "      <td>32060.39</td>\n",
       "      <td>36439.61</td>\n",
       "      <td>20211027</td>\n",
       "      <td>20261027</td>\n",
       "    </tr>\n",
       "    <tr>\n",
       "      <th>4</th>\n",
       "      <td>2010100220151002</td>\n",
       "      <td>1960-09-05</td>\n",
       "      <td>2010-10-02</td>\n",
       "      <td>2015-10-02</td>\n",
       "      <td>72000.0</td>\n",
       "      <td>56148.13</td>\n",
       "      <td>15851.87</td>\n",
       "      <td>20101002</td>\n",
       "      <td>20151002</td>\n",
       "    </tr>\n",
       "  </tbody>\n",
       "</table>\n",
       "</div>"
      ],
      "text/plain": [
       "          Client_id Date_of_birth Opening_date Expiry_date  Credit_limit  \\\n",
       "0  2008090220130902    1949-08-17   2008-09-02  2013-09-02       38000.0   \n",
       "1  2019090820240908    1938-07-04   2019-09-08  2024-09-08       19500.0   \n",
       "2  2019042320240423    1927-03-28   2019-04-23  2024-04-23       11500.0   \n",
       "3  2021102720261027    1936-01-17   2021-10-27  2026-10-27       68500.0   \n",
       "4  2010100220151002    1960-09-05   2010-10-02  2015-10-02       72000.0   \n",
       "\n",
       "   Statement_balance  Available_credit   Opening    Expiry  \n",
       "0           29297.69           8702.31  20080902  20130902  \n",
       "1           15628.50           3871.50  20190908  20240908  \n",
       "2            7388.34           4111.66  20190423  20240423  \n",
       "3           32060.39          36439.61  20211027  20261027  \n",
       "4           56148.13          15851.87  20101002  20151002  "
      ]
     },
     "execution_count": 5,
     "metadata": {},
     "output_type": "execute_result"
    }
   ],
   "source": [
    "data['Opening'] = data['Opening_date'].apply(lambda x: x.replace('-', ''))\n",
    "data['Expiry'] = data['Expiry_date'].apply(lambda x: x.replace('-', ''))\n",
    "data['Client_id'] = data['Opening'] + data['Expiry']\n",
    "data['Client_id'] = data['Client_id'].apply(lambda x: int(x))\n",
    "data['Opening'] = data['Opening'].apply(lambda x: int(x))\n",
    "data['Expiry'] = data['Expiry'].apply(lambda x: int(x))\n",
    "\n",
    "data = data[['Client_id', 'Date_of_birth', 'Opening_date', 'Expiry_date', 'Credit_limit', 'Statement_balance', 'Available_credit', 'Opening', 'Expiry']]\n",
    "\n",
    "data.head()"
   ]
  },
  {
   "cell_type": "code",
   "execution_count": 6,
   "id": "782e1b44",
   "metadata": {
    "scrolled": true
   },
   "outputs": [
    {
     "data": {
      "text/plain": [
       "Client_id              int64\n",
       "Date_of_birth         object\n",
       "Opening_date          object\n",
       "Expiry_date           object\n",
       "Credit_limit         float64\n",
       "Statement_balance    float64\n",
       "Available_credit     float64\n",
       "Opening                int64\n",
       "Expiry                 int64\n",
       "dtype: object"
      ]
     },
     "execution_count": 6,
     "metadata": {},
     "output_type": "execute_result"
    }
   ],
   "source": [
    "data.dtypes"
   ]
  },
  {
   "cell_type": "markdown",
   "id": "7e76fc5a",
   "metadata": {},
   "source": [
    "# Compare Synthetic Data Generated with & without Constraints Applied"
   ]
  },
  {
   "cell_type": "markdown",
   "id": "7976e564",
   "metadata": {},
   "source": [
    "## Generate Synthetic Data with Constraints"
   ]
  },
  {
   "cell_type": "code",
   "execution_count": 7,
   "id": "708643fd",
   "metadata": {
    "scrolled": true
   },
   "outputs": [
    {
     "name": "stdout",
     "output_type": "stream",
     "text": [
      "Date types reformatted and missing values handled successfully!\n",
      "Execution Time: 0.0945 seconds\n",
      "8 relationships detected\n",
      "Execution Time: 0.5657 seconds\n",
      "1 relationships detected\n",
      "Execution Time: 1.3636 seconds\n",
      "8 relationships detected\n",
      "Execution Time: 0.5952 seconds\n",
      "2 relationships detected\n",
      "Execution Time: 0.4549 seconds\n"
     ]
    }
   ],
   "source": [
    "d1 = SD_generator(data, inequality_threshold=0.95, arithmetic_equality_threshold=0.95, inclusive_threshold=1.0)\n",
    "d1.preprocess()\n",
    "d1.detect_inequality()\n",
    "d1.detect_arithmetic_equality()\n",
    "d1.detect_arithmetic_inequality()\n",
    "d1.detect_inclusive()"
   ]
  },
  {
   "cell_type": "markdown",
   "id": "d39338ee",
   "metadata": {},
   "source": [
    "### Original Relationships Detected:"
   ]
  },
  {
   "cell_type": "code",
   "execution_count": 8,
   "id": "518a8800",
   "metadata": {},
   "outputs": [
    {
     "name": "stdout",
     "output_type": "stream",
     "text": [
      "Inequality:  {'Client_id': ['Expiry'], 'Opening_date': ['Date_of_birth'], 'Expiry_date': ['Opening_date'], 'Opening': ['Expiry_date', 'Credit_limit'], 'Expiry': ['Opening'], 'Credit_limit': ['Statement_balance', 'Available_credit']}\n",
      "Arithmetic Equality:  {'Credit_limit': [['Statement_balance', 'Available_credit']]}\n",
      "Arithmetic Inequality:  {'Client_id': [['Expiry', 2000010600000000.0]], 'Opening_date': [['Date_of_birth', 6599.0]], 'Expiry_date': [['Opening_date', 1826.0]], 'Opening': [['Expiry_date', 19961750.0], ['Credit_limit', 19900301.0]], 'Expiry': [['Opening', 49999.0]], 'Credit_limit': [['Statement_balance', 3.9400000000023283], ['Available_credit', 7.260000000000218]]}\n",
      "Inclusive:  {'Client_id': [['Opening', 0], ['Expiry', 8]]}\n"
     ]
    }
   ],
   "source": [
    "print(\"Inequality: \", d1.inequality_dict)\n",
    "print(\"Arithmetic Equality: \", d1.arithmetic_equality_dict)\n",
    "print(\"Arithmetic Inequality: \", d1.arithmetic_inequality_dict)\n",
    "print(\"Inclusive: \", d1.inclusive_dict)"
   ]
  },
  {
   "cell_type": "markdown",
   "id": "21b14c03",
   "metadata": {},
   "source": [
    "### Create Models"
   ]
  },
  {
   "cell_type": "code",
   "execution_count": 9,
   "id": "064fcd8c",
   "metadata": {},
   "outputs": [
    {
     "name": "stdout",
     "output_type": "stream",
     "text": [
      "Constrainsts created successfully!\n",
      "Execution Time: 0.0004 seconds\n",
      "Execution Time for training GaussianCopula: 0.1449 seconds\n",
      "Execution Time for training CTGAN: 49.0681 seconds\n",
      "Execution Time for training CopulaGAN: 45.322 seconds\n",
      "Execution Time for training TVAE: 16.8724 seconds\n"
     ]
    }
   ],
   "source": [
    "d1.create_constraints(inequality=True, arithmetic_equality=True, arithmetic_inequality=True, inclusive=True)\n",
    "d1.apply_model(\"GaussianCopula\")\n",
    "d1.apply_model(\"CTGAN\")\n",
    "d1.apply_model(\"CopulaGAN\")\n",
    "d1.apply_model(\"TVAE\")"
   ]
  },
  {
   "cell_type": "markdown",
   "id": "a04cfb14",
   "metadata": {},
   "source": [
    "### Generate Synthetic Data"
   ]
  },
  {
   "cell_type": "code",
   "execution_count": 10,
   "id": "fab5cbed",
   "metadata": {},
   "outputs": [
    {
     "name": "stderr",
     "output_type": "stream",
     "text": [
      "Sampling rows: 100%|██████████████████████| 2000/2000 [00:00<00:00, 7870.86it/s]\n"
     ]
    },
    {
     "name": "stdout",
     "output_type": "stream",
     "text": [
      "Synthetic data generated successfully with GaussianCopula model!\n",
      "Execution Time: 0.5882 seconds\n"
     ]
    },
    {
     "name": "stderr",
     "output_type": "stream",
     "text": [
      "Sampling rows: 100%|██████████████████████| 2000/2000 [00:00<00:00, 4870.28it/s]\n"
     ]
    },
    {
     "name": "stdout",
     "output_type": "stream",
     "text": [
      "Synthetic data generated successfully with CTGAN model!\n",
      "Execution Time: 0.7355 seconds\n"
     ]
    },
    {
     "name": "stderr",
     "output_type": "stream",
     "text": [
      "Sampling rows: 100%|██████████████████████| 2000/2000 [00:00<00:00, 3787.43it/s]\n"
     ]
    },
    {
     "name": "stdout",
     "output_type": "stream",
     "text": [
      "Synthetic data generated successfully with CopulaGAN model!\n",
      "Execution Time: 0.8354 seconds\n"
     ]
    },
    {
     "name": "stderr",
     "output_type": "stream",
     "text": [
      "Sampling rows: 100%|██████████████████████| 2000/2000 [00:00<00:00, 4941.06it/s]\n"
     ]
    },
    {
     "name": "stdout",
     "output_type": "stream",
     "text": [
      "Synthetic data generated successfully with TVAE model!\n",
      "Execution Time: 0.7208 seconds\n"
     ]
    }
   ],
   "source": [
    "with_constraint_GaussianCopula = d1.generate(\"GaussianCopula\", num_rows=2000)\n",
    "with_constraint_CTGAN = d1.generate(\"CTGAN\", num_rows=2000)\n",
    "with_constraint_CopulaGAN = d1.generate(\"CopulaGAN\", num_rows=2000)\n",
    "with_constraint_TVAE = d1.generate(\"TVAE\", num_rows=2000)"
   ]
  },
  {
   "cell_type": "markdown",
   "id": "4bbbfbfd",
   "metadata": {},
   "source": [
    "### Detect Relationships on Synthetic Data"
   ]
  },
  {
   "cell_type": "markdown",
   "id": "7b3fa33a",
   "metadata": {},
   "source": [
    "### Synthetic Data Generated using GaussianCopula with constraints"
   ]
  },
  {
   "cell_type": "code",
   "execution_count": 11,
   "id": "8d8969b5",
   "metadata": {},
   "outputs": [
    {
     "name": "stdout",
     "output_type": "stream",
     "text": [
      "Date types reformatted and missing values handled successfully!\n",
      "Execution Time: 0.0015 seconds\n",
      "9 relationships detected\n",
      "Execution Time: 0.6241 seconds\n",
      "1 relationships detected\n",
      "Execution Time: 1.5081 seconds\n",
      "9 relationships detected\n",
      "Execution Time: 0.7043 seconds\n",
      "2 relationships detected\n",
      "Execution Time: 0.5396 seconds\n"
     ]
    }
   ],
   "source": [
    "d2 = SD_generator(with_constraint_GaussianCopula, inequality_threshold=0.95, arithmetic_equality_threshold=0.95, inclusive_threshold=1.0)\n",
    "d2.preprocess()\n",
    "d2.detect_inequality()\n",
    "d2.detect_arithmetic_equality()\n",
    "d2.detect_arithmetic_inequality()\n",
    "d2.detect_inclusive()"
   ]
  },
  {
   "cell_type": "markdown",
   "id": "ec15a71c",
   "metadata": {},
   "source": [
    "### New Relationships Detected:"
   ]
  },
  {
   "cell_type": "code",
   "execution_count": 12,
   "id": "d3a69e06",
   "metadata": {},
   "outputs": [
    {
     "name": "stdout",
     "output_type": "stream",
     "text": [
      "Inequality:  {'Client_id': ['Expiry'], 'Opening_date': ['Date_of_birth'], 'Expiry_date': ['Opening_date'], 'Credit_limit': ['Date_of_birth', 'Statement_balance', 'Available_credit'], 'Opening': ['Expiry_date', 'Credit_limit'], 'Expiry': ['Opening']}\n",
      "Arithmetic Equality:  {'Credit_limit': [['Statement_balance', 'Available_credit']]}\n",
      "Arithmetic Inequality:  {'Client_id': [['Expiry', 2010701200000000.0]], 'Opening_date': [['Date_of_birth', 6719.007703743075]], 'Expiry_date': [['Opening_date', 1829.8046168126239]], 'Credit_limit': [['Date_of_birth', -24247.638740689603], ['Statement_balance', 38.52344068880484], ['Available_credit', 782.4400000000023]], 'Opening': [['Expiry_date', 20065408.0], ['Credit_limit', 19943185.313415647]], 'Expiry': [['Opening', 50134.0]]}\n",
      "Inclusive:  {'Client_id': [['Opening', 0], ['Expiry', 8]]}\n"
     ]
    }
   ],
   "source": [
    "print(\"Inequality: \", d2.inequality_dict)\n",
    "print(\"Arithmetic Equality: \", d2.arithmetic_equality_dict)\n",
    "print(\"Arithmetic Inequality: \", d2.arithmetic_inequality_dict)\n",
    "print(\"Inclusive: \", d2.inclusive_dict)"
   ]
  },
  {
   "cell_type": "markdown",
   "id": "dcdc1b06",
   "metadata": {},
   "source": [
    "### Synthetic Data Generated using CTGAN with constraints"
   ]
  },
  {
   "cell_type": "code",
   "execution_count": 13,
   "id": "0f9276e8",
   "metadata": {},
   "outputs": [
    {
     "name": "stdout",
     "output_type": "stream",
     "text": [
      "Date types reformatted and missing values handled successfully!\n",
      "Execution Time: 0.0028 seconds\n",
      "8 relationships detected\n",
      "Execution Time: 0.6143 seconds\n",
      "1 relationships detected\n",
      "Execution Time: 1.5142 seconds\n",
      "8 relationships detected\n",
      "Execution Time: 0.6134 seconds\n",
      "2 relationships detected\n",
      "Execution Time: 0.5045 seconds\n"
     ]
    }
   ],
   "source": [
    "d3 = SD_generator(with_constraint_CTGAN, inequality_threshold=0.95, arithmetic_equality_threshold=0.95, inclusive_threshold=1.0)\n",
    "d3.preprocess()\n",
    "d3.detect_inequality()\n",
    "d3.detect_arithmetic_equality()\n",
    "d3.detect_arithmetic_inequality()\n",
    "d3.detect_inclusive()"
   ]
  },
  {
   "cell_type": "markdown",
   "id": "96ef21cb",
   "metadata": {},
   "source": [
    "### New Relationships Detected:"
   ]
  },
  {
   "cell_type": "code",
   "execution_count": 14,
   "id": "60a496ce",
   "metadata": {},
   "outputs": [
    {
     "name": "stdout",
     "output_type": "stream",
     "text": [
      "Inequality:  {'Client_id': ['Expiry'], 'Opening_date': ['Date_of_birth'], 'Expiry_date': ['Opening_date'], 'Opening': ['Expiry_date', 'Credit_limit'], 'Expiry': ['Opening'], 'Credit_limit': ['Statement_balance', 'Available_credit']}\n",
      "Arithmetic Equality:  {'Credit_limit': [['Statement_balance', 'Available_credit']]}\n",
      "Arithmetic Inequality:  {'Client_id': [['Expiry', 2000166500000000.0]], 'Opening_date': [['Date_of_birth', 6643.672358613425]], 'Expiry_date': [['Opening_date', 1850.7252087199886]], 'Opening': [['Expiry_date', 19962357.0], ['Credit_limit', 19860600.30662857]], 'Expiry': [['Opening', 50020.0]], 'Credit_limit': [['Statement_balance', 3.9400000000023283], ['Available_credit', 7.259999999998399]]}\n",
      "Inclusive:  {'Client_id': [['Opening', 0], ['Expiry', 8]]}\n"
     ]
    }
   ],
   "source": [
    "print(\"Inequality: \", d3.inequality_dict)\n",
    "print(\"Arithmetic Equality: \", d3.arithmetic_equality_dict)\n",
    "print(\"Arithmetic Inequality: \", d3.arithmetic_inequality_dict)\n",
    "print(\"Inclusive: \", d3.inclusive_dict)"
   ]
  },
  {
   "cell_type": "markdown",
   "id": "dad6e25b",
   "metadata": {},
   "source": [
    "### Synthetic Data Generated using CopulaGAN with constraints"
   ]
  },
  {
   "cell_type": "code",
   "execution_count": 15,
   "id": "64fd5363",
   "metadata": {},
   "outputs": [
    {
     "name": "stdout",
     "output_type": "stream",
     "text": [
      "Date types reformatted and missing values handled successfully!\n",
      "Execution Time: 0.0021 seconds\n",
      "8 relationships detected\n",
      "Execution Time: 0.6216 seconds\n",
      "1 relationships detected\n",
      "Execution Time: 1.4264 seconds\n",
      "8 relationships detected\n",
      "Execution Time: 0.6317 seconds\n",
      "2 relationships detected\n",
      "Execution Time: 0.5591 seconds\n"
     ]
    }
   ],
   "source": [
    "d4 = SD_generator(with_constraint_CopulaGAN, inequality_threshold=0.95, arithmetic_equality_threshold=0.95, inclusive_threshold=1.0)\n",
    "d4.preprocess()\n",
    "d4.detect_inequality()\n",
    "d4.detect_arithmetic_equality()\n",
    "d4.detect_arithmetic_inequality()\n",
    "d4.detect_inclusive()"
   ]
  },
  {
   "cell_type": "markdown",
   "id": "2d6be5ae",
   "metadata": {},
   "source": [
    "### New Relationships Detected:"
   ]
  },
  {
   "cell_type": "code",
   "execution_count": 16,
   "id": "413da923",
   "metadata": {},
   "outputs": [
    {
     "name": "stdout",
     "output_type": "stream",
     "text": [
      "Inequality:  {'Client_id': ['Expiry'], 'Opening_date': ['Date_of_birth'], 'Expiry_date': ['Opening_date'], 'Opening': ['Expiry_date', 'Credit_limit'], 'Expiry': ['Opening'], 'Credit_limit': ['Statement_balance', 'Available_credit']}\n",
      "Arithmetic Equality:  {'Credit_limit': [['Statement_balance', 'Available_credit']]}\n",
      "Arithmetic Inequality:  {'Client_id': [['Expiry', 2000104000000000.0]], 'Opening_date': [['Date_of_birth', 6599.268115953222]], 'Expiry_date': [['Opening_date', 1868.4476762576742]], 'Opening': [['Expiry_date', 19961858.0], ['Credit_limit', 19859252.78018252]], 'Expiry': [['Opening', 50023.0]], 'Credit_limit': [['Statement_balance', 4.040169330561184], ['Available_credit', 7.6599999999998545]]}\n",
      "Inclusive:  {'Client_id': [['Opening', 0], ['Expiry', 8]]}\n"
     ]
    }
   ],
   "source": [
    "print(\"Inequality: \", d4.inequality_dict)\n",
    "print(\"Arithmetic Equality: \", d4.arithmetic_equality_dict)\n",
    "print(\"Arithmetic Inequality: \", d4.arithmetic_inequality_dict)\n",
    "print(\"Inclusive: \", d4.inclusive_dict)"
   ]
  },
  {
   "cell_type": "markdown",
   "id": "348def27",
   "metadata": {},
   "source": [
    "### Synthetic Data Generated using TVAE with constraints"
   ]
  },
  {
   "cell_type": "code",
   "execution_count": 17,
   "id": "5d09f239",
   "metadata": {},
   "outputs": [
    {
     "name": "stdout",
     "output_type": "stream",
     "text": [
      "Date types reformatted and missing values handled successfully!\n",
      "Execution Time: 0.0028 seconds\n",
      "8 relationships detected\n",
      "Execution Time: 0.5847 seconds\n",
      "1 relationships detected\n",
      "Execution Time: 1.4133 seconds\n",
      "8 relationships detected\n",
      "Execution Time: 0.6095 seconds\n",
      "2 relationships detected\n",
      "Execution Time: 0.3872 seconds\n"
     ]
    }
   ],
   "source": [
    "d5 = SD_generator(with_constraint_TVAE, inequality_threshold=0.95, arithmetic_equality_threshold=0.95, inclusive_threshold=1.0)\n",
    "d5.preprocess()\n",
    "d5.detect_inequality()\n",
    "d5.detect_arithmetic_equality()\n",
    "d5.detect_arithmetic_inequality()\n",
    "d5.detect_inclusive()"
   ]
  },
  {
   "cell_type": "markdown",
   "id": "712914bb",
   "metadata": {},
   "source": [
    "### New Relationships Detected:"
   ]
  },
  {
   "cell_type": "code",
   "execution_count": 18,
   "id": "eeebe0a9",
   "metadata": {},
   "outputs": [
    {
     "name": "stdout",
     "output_type": "stream",
     "text": [
      "Inequality:  {'Client_id': ['Expiry'], 'Opening_date': ['Date_of_birth'], 'Expiry_date': ['Opening_date'], 'Opening': ['Expiry_date', 'Credit_limit'], 'Expiry': ['Opening'], 'Credit_limit': ['Statement_balance', 'Available_credit']}\n",
      "Arithmetic Equality:  {'Credit_limit': [['Statement_balance', 'Available_credit']]}\n",
      "Arithmetic Inequality:  {'Client_id': [['Expiry', 2000052900000000.0]], 'Opening_date': [['Date_of_birth', 6604.18468302094]], 'Expiry_date': [['Opening_date', 1826.7241858785856]], 'Opening': [['Expiry_date', 19961832.0], ['Credit_limit', 19880690.651289474]], 'Expiry': [['Opening', 50017.0]], 'Credit_limit': [['Statement_balance', 3.9400000000023283], ['Available_credit', 7.259999999994761]]}\n",
      "Inclusive:  {'Client_id': [['Opening', 0], ['Expiry', 8]]}\n"
     ]
    }
   ],
   "source": [
    "print(\"Inequality: \", d5.inequality_dict)\n",
    "print(\"Arithmetic Equality: \", d5.arithmetic_equality_dict)\n",
    "print(\"Arithmetic Inequality: \", d5.arithmetic_inequality_dict)\n",
    "print(\"Inclusive: \", d5.inclusive_dict)"
   ]
  },
  {
   "cell_type": "markdown",
   "id": "73ce0910",
   "metadata": {},
   "source": [
    "## Generate Synthetic Data without Constraints"
   ]
  },
  {
   "cell_type": "code",
   "execution_count": 19,
   "id": "2d72c36b",
   "metadata": {},
   "outputs": [
    {
     "name": "stdout",
     "output_type": "stream",
     "text": [
      "Date types reformatted and missing values handled successfully!\n",
      "Execution Time: 0.0024 seconds\n",
      "8 relationships detected\n",
      "Execution Time: 0.5929 seconds\n",
      "1 relationships detected\n",
      "Execution Time: 1.4233 seconds\n",
      "8 relationships detected\n",
      "Execution Time: 0.6011 seconds\n",
      "2 relationships detected\n",
      "Execution Time: 0.4761 seconds\n"
     ]
    }
   ],
   "source": [
    "d6 = SD_generator(data, inequality_threshold=0.95, arithmetic_equality_threshold=0.95, inclusive_threshold=1.0)\n",
    "d6.preprocess()\n",
    "d6.detect_inequality()\n",
    "d6.detect_arithmetic_equality()\n",
    "d6.detect_arithmetic_inequality()\n",
    "d6.detect_inclusive()"
   ]
  },
  {
   "cell_type": "markdown",
   "id": "1938187b",
   "metadata": {},
   "source": [
    "### Original Relationships Detected:"
   ]
  },
  {
   "cell_type": "code",
   "execution_count": 20,
   "id": "14dccb8a",
   "metadata": {},
   "outputs": [
    {
     "name": "stdout",
     "output_type": "stream",
     "text": [
      "Inequality:  {'Client_id': ['Expiry'], 'Opening_date': ['Date_of_birth'], 'Expiry_date': ['Opening_date'], 'Opening': ['Expiry_date', 'Credit_limit'], 'Expiry': ['Opening'], 'Credit_limit': ['Statement_balance', 'Available_credit']}\n",
      "Arithmetic Equality:  {'Credit_limit': [['Statement_balance', 'Available_credit']]}\n",
      "Arithmetic Inequality:  {'Client_id': [['Expiry', 2000010600000000.0]], 'Opening_date': [['Date_of_birth', 6599.0]], 'Expiry_date': [['Opening_date', 1826.0]], 'Opening': [['Expiry_date', 19961750.0], ['Credit_limit', 19900301.0]], 'Expiry': [['Opening', 49999.0]], 'Credit_limit': [['Statement_balance', 3.9400000000023283], ['Available_credit', 7.260000000000218]]}\n",
      "Inclusive:  {'Client_id': [['Opening', 0], ['Expiry', 8]]}\n"
     ]
    }
   ],
   "source": [
    "print(\"Inequality: \", d6.inequality_dict)\n",
    "print(\"Arithmetic Equality: \", d6.arithmetic_equality_dict)\n",
    "print(\"Arithmetic Inequality: \", d6.arithmetic_inequality_dict)\n",
    "print(\"Inclusive: \", d6.inclusive_dict)"
   ]
  },
  {
   "cell_type": "markdown",
   "id": "ad8a8aa4",
   "metadata": {},
   "source": [
    "### Create Models"
   ]
  },
  {
   "cell_type": "code",
   "execution_count": 21,
   "id": "f866e113",
   "metadata": {},
   "outputs": [
    {
     "name": "stdout",
     "output_type": "stream",
     "text": [
      "Constrainsts created successfully!\n",
      "Execution Time: 0.0 seconds\n",
      "Execution Time for training GaussianCopula: 0.1546 seconds\n",
      "Execution Time for training CTGAN: 45.6992 seconds\n",
      "Execution Time for training CopulaGAN: 47.4916 seconds\n",
      "Execution Time for training TVAE: 16.9435 seconds\n"
     ]
    }
   ],
   "source": [
    "d6.create_constraints(inequality=False, arithmetic_equality=False, arithmetic_inequality=False, inclusive=False)\n",
    "d6.apply_model(\"GaussianCopula\")\n",
    "d6.apply_model(\"CTGAN\")\n",
    "d6.apply_model(\"CopulaGAN\")\n",
    "d6.apply_model(\"TVAE\")"
   ]
  },
  {
   "cell_type": "markdown",
   "id": "80ce1cc4",
   "metadata": {},
   "source": [
    "### Generate Synthetic Data"
   ]
  },
  {
   "cell_type": "code",
   "execution_count": 22,
   "id": "87363822",
   "metadata": {},
   "outputs": [
    {
     "name": "stdout",
     "output_type": "stream",
     "text": [
      "Synthetic data generated successfully with GaussianCopula model!\n",
      "Execution Time: 0.0701 seconds\n",
      "Synthetic data generated successfully with CTGAN model!\n",
      "Execution Time: 0.1099 seconds\n",
      "Synthetic data generated successfully with CopulaGAN model!\n",
      "Execution Time: 0.218 seconds\n",
      "Synthetic data generated successfully with TVAE model!\n",
      "Execution Time: 0.0913 seconds\n"
     ]
    }
   ],
   "source": [
    "without_constraint_GaussianCopula = d6.generate(\"GaussianCopula\", num_rows=2000)\n",
    "without_constraint_CTGAN = d6.generate(\"CTGAN\", num_rows=2000)\n",
    "without_constraint_CopulaGAN = d6.generate(\"CopulaGAN\", num_rows=2000)\n",
    "without_constraint_TVAE = d6.generate(\"TVAE\", num_rows=2000)"
   ]
  },
  {
   "cell_type": "markdown",
   "id": "289a3a90",
   "metadata": {},
   "source": [
    "### Detect Relationships on Synthetic Data"
   ]
  },
  {
   "cell_type": "markdown",
   "id": "784f494a",
   "metadata": {},
   "source": [
    "### Synthetic Data Generated using GaussianCopula without constraints"
   ]
  },
  {
   "cell_type": "code",
   "execution_count": 23,
   "id": "c2214d1c",
   "metadata": {},
   "outputs": [
    {
     "name": "stdout",
     "output_type": "stream",
     "text": [
      "Date types reformatted and missing values handled successfully!\n",
      "Execution Time: 0.003 seconds\n",
      "8 relationships detected\n",
      "Execution Time: 0.6561 seconds\n",
      "0 relationships detected\n",
      "Execution Time: 1.4388 seconds\n",
      "8 relationships detected\n",
      "Execution Time: 0.6199 seconds\n",
      "0 relationships detected\n",
      "Execution Time: 0.4844 seconds\n"
     ]
    }
   ],
   "source": [
    "d7 = SD_generator(without_constraint_GaussianCopula, inequality_threshold=0.95, arithmetic_equality_threshold=0.95, inclusive_threshold=1.0)\n",
    "d7.preprocess()\n",
    "d7.detect_inequality()\n",
    "d7.detect_arithmetic_equality()\n",
    "d7.detect_arithmetic_inequality()\n",
    "d7.detect_inclusive()"
   ]
  },
  {
   "cell_type": "markdown",
   "id": "8e43cfb9",
   "metadata": {},
   "source": [
    "### New Relationships detected:"
   ]
  },
  {
   "cell_type": "code",
   "execution_count": 24,
   "id": "3b68de6a",
   "metadata": {},
   "outputs": [
    {
     "name": "stdout",
     "output_type": "stream",
     "text": [
      "Inequality:  {'Client_id': ['Expiry'], 'Opening_date': ['Date_of_birth'], 'Expiry_date': ['Opening_date'], 'Opening': ['Expiry_date', 'Credit_limit', 'Statement_balance', 'Available_credit'], 'Expiry': ['Opening']}\n",
      "Arithmetic Equality:  {}\n",
      "Arithmetic Inequality:  {'Client_id': [['Expiry', 2000053299291494.0]], 'Opening_date': [['Date_of_birth', 1080.0]], 'Expiry_date': [['Opening_date', 1820.0]], 'Opening': [['Expiry_date', 19961923.0], ['Credit_limit', 19904811.0], ['Statement_balance', 19914246.26], ['Available_credit', 19903857.66328935]], 'Expiry': [['Opening', 48909.0]]}\n",
      "Inclusive:  {}\n"
     ]
    }
   ],
   "source": [
    "print(\"Inequality: \", d7.inequality_dict)\n",
    "print(\"Arithmetic Equality: \", d7.arithmetic_equality_dict)\n",
    "print(\"Arithmetic Inequality: \", d7.arithmetic_inequality_dict)\n",
    "print(\"Inclusive: \", d7.inclusive_dict)"
   ]
  },
  {
   "cell_type": "markdown",
   "id": "46995be0",
   "metadata": {},
   "source": [
    "### Synthetic Data Generated using CTGAN without constraints"
   ]
  },
  {
   "cell_type": "code",
   "execution_count": 25,
   "id": "adbe910c",
   "metadata": {},
   "outputs": [
    {
     "name": "stdout",
     "output_type": "stream",
     "text": [
      "Date types reformatted and missing values handled successfully!\n",
      "Execution Time: 0.0025 seconds\n",
      "14 relationships detected\n",
      "Execution Time: 0.6088 seconds\n",
      "0 relationships detected\n",
      "Execution Time: 1.2559 seconds\n",
      "14 relationships detected\n",
      "Execution Time: 1.0543 seconds\n",
      "0 relationships detected\n",
      "Execution Time: 0.5775 seconds\n"
     ]
    }
   ],
   "source": [
    "d8 = SD_generator(without_constraint_CTGAN, inequality_threshold=0.95, arithmetic_equality_threshold=0.95, inclusive_threshold=1.0)\n",
    "d8.preprocess()\n",
    "d8.detect_inequality()\n",
    "d8.detect_arithmetic_equality()\n",
    "d8.detect_arithmetic_inequality()\n",
    "d8.detect_inclusive()"
   ]
  },
  {
   "cell_type": "markdown",
   "id": "0d7df8b1",
   "metadata": {},
   "source": [
    "### New Relationships detected:"
   ]
  },
  {
   "cell_type": "code",
   "execution_count": 26,
   "id": "6461e5aa",
   "metadata": {},
   "outputs": [
    {
     "name": "stdout",
     "output_type": "stream",
     "text": [
      "Inequality:  {'Client_id': ['Opening', 'Expiry'], 'Opening_date': ['Date_of_birth'], 'Expiry_date': ['Date_of_birth'], 'Opening': ['Opening_date', 'Expiry_date', 'Credit_limit', 'Statement_balance', 'Available_credit'], 'Expiry': ['Opening_date', 'Expiry_date', 'Credit_limit', 'Statement_balance', 'Available_credit']}\n",
      "Arithmetic Equality:  {}\n",
      "Arithmetic Inequality:  {'Client_id': [['Opening', 2000010599828876.0], ['Expiry', 2000010599778876.0]], 'Opening_date': [['Date_of_birth', -1242.0]], 'Expiry_date': [['Date_of_birth', 585.0]], 'Opening': [['Opening_date', 19955183.0], ['Expiry_date', 19953710.0], ['Credit_limit', 19900106.0], ['Statement_balance', 19901941.96], ['Available_credit', 19901337.67]], 'Expiry': [['Opening_date', 20005183.0], ['Expiry_date', 20003387.0], ['Credit_limit', 19950106.0], ['Statement_balance', 19951941.96], ['Available_credit', 19951337.67]]}\n",
      "Inclusive:  {}\n"
     ]
    }
   ],
   "source": [
    "print(\"Inequality: \", d8.inequality_dict)\n",
    "print(\"Arithmetic Equality: \", d8.arithmetic_equality_dict)\n",
    "print(\"Arithmetic Inequality: \", d8.arithmetic_inequality_dict)\n",
    "print(\"Inclusive: \", d8.inclusive_dict)"
   ]
  },
  {
   "cell_type": "markdown",
   "id": "977b2693",
   "metadata": {},
   "source": [
    "### Synthetic Data Generated using CopulaGAN without constraints"
   ]
  },
  {
   "cell_type": "code",
   "execution_count": 27,
   "id": "4b246cca",
   "metadata": {},
   "outputs": [
    {
     "name": "stdout",
     "output_type": "stream",
     "text": [
      "Date types reformatted and missing values handled successfully!\n",
      "Execution Time: 0.0018 seconds\n",
      "14 relationships detected\n",
      "Execution Time: 0.6008 seconds\n",
      "0 relationships detected\n",
      "Execution Time: 1.2722 seconds\n",
      "14 relationships detected\n",
      "Execution Time: 1.0467 seconds\n",
      "0 relationships detected\n",
      "Execution Time: 0.5429 seconds\n"
     ]
    }
   ],
   "source": [
    "d9 = SD_generator(without_constraint_CopulaGAN, inequality_threshold=0.95, arithmetic_equality_threshold=0.95, inclusive_threshold=1.0)\n",
    "d9.preprocess()\n",
    "d9.detect_inequality()\n",
    "d9.detect_arithmetic_equality()\n",
    "d9.detect_arithmetic_inequality()\n",
    "d9.detect_inclusive()"
   ]
  },
  {
   "cell_type": "markdown",
   "id": "dc9d2f00",
   "metadata": {},
   "source": [
    "### New Relationships detected:"
   ]
  },
  {
   "cell_type": "code",
   "execution_count": 28,
   "id": "2dde6508",
   "metadata": {},
   "outputs": [
    {
     "name": "stdout",
     "output_type": "stream",
     "text": [
      "Inequality:  {'Client_id': ['Opening', 'Expiry'], 'Opening_date': ['Date_of_birth'], 'Expiry_date': ['Date_of_birth'], 'Opening': ['Opening_date', 'Expiry_date', 'Credit_limit', 'Statement_balance', 'Available_credit'], 'Expiry': ['Opening_date', 'Expiry_date', 'Credit_limit', 'Statement_balance', 'Available_credit']}\n",
      "Arithmetic Equality:  {}\n",
      "Arithmetic Inequality:  {'Client_id': [['Opening', 2000010600509897.0], ['Expiry', 2000010600608296.0]], 'Opening_date': [['Date_of_birth', 118.0]], 'Expiry_date': [['Date_of_birth', 1062.0]], 'Opening': [['Opening_date', 19956139.0], ['Expiry_date', 19953579.0], ['Credit_limit', 19906405.0], ['Statement_balance', 19918991.9], ['Available_credit', 19915864.379119765]], 'Expiry': [['Opening_date', 20005375.0], ['Expiry_date', 20003698.0], ['Credit_limit', 19951779.0], ['Statement_balance', 19955402.65], ['Available_credit', 19960858.64206941]]}\n",
      "Inclusive:  {}\n"
     ]
    }
   ],
   "source": [
    "print(\"Inequality: \", d9.inequality_dict)\n",
    "print(\"Arithmetic Equality: \", d9.arithmetic_equality_dict)\n",
    "print(\"Arithmetic Inequality: \", d9.arithmetic_inequality_dict)\n",
    "print(\"Inclusive: \", d9.inclusive_dict)"
   ]
  },
  {
   "cell_type": "markdown",
   "id": "eee308f7",
   "metadata": {},
   "source": [
    "### Synthetic Data Generated using TVAE without constraints"
   ]
  },
  {
   "cell_type": "code",
   "execution_count": 29,
   "id": "7040d1a7",
   "metadata": {},
   "outputs": [
    {
     "name": "stdout",
     "output_type": "stream",
     "text": [
      "Date types reformatted and missing values handled successfully!\n",
      "Execution Time: 0.0028 seconds\n",
      "8 relationships detected\n",
      "Execution Time: 0.6112 seconds\n",
      "0 relationships detected\n",
      "Execution Time: 1.3565 seconds\n",
      "8 relationships detected\n",
      "Execution Time: 0.6089 seconds\n",
      "0 relationships detected\n",
      "Execution Time: 0.3786 seconds\n"
     ]
    }
   ],
   "source": [
    "d10 = SD_generator(without_constraint_TVAE, inequality_threshold=0.95, arithmetic_equality_threshold=0.95, inclusive_threshold=1.0)\n",
    "d10.preprocess()\n",
    "d10.detect_inequality()\n",
    "d10.detect_arithmetic_equality()\n",
    "d10.detect_arithmetic_inequality()\n",
    "d10.detect_inclusive()"
   ]
  },
  {
   "cell_type": "markdown",
   "id": "5f63bb48",
   "metadata": {},
   "source": [
    "### New Relationships detected:"
   ]
  },
  {
   "cell_type": "code",
   "execution_count": 30,
   "id": "e4208abb",
   "metadata": {},
   "outputs": [
    {
     "name": "stdout",
     "output_type": "stream",
     "text": [
      "Inequality:  {'Client_id': ['Expiry'], 'Opening_date': ['Date_of_birth'], 'Expiry_date': ['Opening_date'], 'Opening': ['Expiry_date', 'Credit_limit', 'Statement_balance', 'Available_credit'], 'Expiry': ['Opening']}\n",
      "Arithmetic Equality:  {}\n",
      "Arithmetic Inequality:  {'Client_id': [['Expiry', 2000010599998501.0]], 'Opening_date': [['Date_of_birth', 3452.0]], 'Expiry_date': [['Opening_date', -1147.0]], 'Opening': [['Expiry_date', 19960915.0], ['Credit_limit', 19900106.0], ['Statement_balance', 19917119.23], ['Available_credit', 19917620.373674862]], 'Expiry': [['Opening', -81205.0]]}\n",
      "Inclusive:  {}\n"
     ]
    }
   ],
   "source": [
    "print(\"Inequality: \", d10.inequality_dict)\n",
    "print(\"Arithmetic Equality: \", d10.arithmetic_equality_dict)\n",
    "print(\"Arithmetic Inequality: \", d10.arithmetic_inequality_dict)\n",
    "print(\"Inclusive: \", d10.inclusive_dict)"
   ]
  }
 ],
 "metadata": {
  "kernelspec": {
   "display_name": "Python 3 (ipykernel)",
   "language": "python",
   "name": "python3"
  },
  "language_info": {
   "codemirror_mode": {
    "name": "ipython",
    "version": 3
   },
   "file_extension": ".py",
   "mimetype": "text/x-python",
   "name": "python",
   "nbconvert_exporter": "python",
   "pygments_lexer": "ipython3",
   "version": "3.9.13"
  }
 },
 "nbformat": 4,
 "nbformat_minor": 5
}
