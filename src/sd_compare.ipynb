{
 "cells": [
  {
   "cell_type": "markdown",
   "id": "200b1936",
   "metadata": {},
   "source": [
    "# Import Packages"
   ]
  },
  {
   "cell_type": "code",
   "execution_count": 1,
   "id": "245fae1d",
   "metadata": {
    "scrolled": true
   },
   "outputs": [],
   "source": [
    "# pip install sdv"
   ]
  },
  {
   "cell_type": "code",
   "execution_count": 2,
   "id": "dc2378a0",
   "metadata": {},
   "outputs": [],
   "source": [
    "import numpy as np\n",
    "import pandas as pd\n",
    "from datetime import datetime as dt\n",
    "import re\n",
    "import time\n",
    "from sdv.tabular import GaussianCopula, CTGAN, CopulaGAN, TVAE\n",
    "from sdv.constraints import Inequality, create_custom_constraint\n",
    "from copy import deepcopy\n",
    "import warnings\n",
    "from itertools import combinations\n",
    "from sd_generator import SD_generator\n",
    "import pprint"
   ]
  },
  {
   "cell_type": "code",
   "execution_count": 3,
   "id": "d5dc527f",
   "metadata": {},
   "outputs": [],
   "source": [
    "warnings.filterwarnings(\"ignore\")"
   ]
  },
  {
   "cell_type": "markdown",
   "id": "a649cef2",
   "metadata": {},
   "source": [
    "# Prepare Data"
   ]
  },
  {
   "cell_type": "code",
   "execution_count": 4,
   "id": "5288f8ed",
   "metadata": {},
   "outputs": [
    {
     "data": {
      "text/html": [
       "<div>\n",
       "<style scoped>\n",
       "    .dataframe tbody tr th:only-of-type {\n",
       "        vertical-align: middle;\n",
       "    }\n",
       "\n",
       "    .dataframe tbody tr th {\n",
       "        vertical-align: top;\n",
       "    }\n",
       "\n",
       "    .dataframe thead th {\n",
       "        text-align: right;\n",
       "    }\n",
       "</style>\n",
       "<table border=\"1\" class=\"dataframe\">\n",
       "  <thead>\n",
       "    <tr style=\"text-align: right;\">\n",
       "      <th></th>\n",
       "      <th>Date_of_birth</th>\n",
       "      <th>Opening_date</th>\n",
       "      <th>Expiry_date</th>\n",
       "      <th>Credit_limit</th>\n",
       "      <th>Statement_balance</th>\n",
       "      <th>Available_credit</th>\n",
       "    </tr>\n",
       "  </thead>\n",
       "  <tbody>\n",
       "    <tr>\n",
       "      <th>0</th>\n",
       "      <td>1949-08-17</td>\n",
       "      <td>2008-09-02</td>\n",
       "      <td>2013-09-02</td>\n",
       "      <td>38000.0</td>\n",
       "      <td>29297.69</td>\n",
       "      <td>8702.31</td>\n",
       "    </tr>\n",
       "    <tr>\n",
       "      <th>1</th>\n",
       "      <td>1938-07-04</td>\n",
       "      <td>2019-09-08</td>\n",
       "      <td>2024-09-08</td>\n",
       "      <td>19500.0</td>\n",
       "      <td>15628.50</td>\n",
       "      <td>3871.50</td>\n",
       "    </tr>\n",
       "    <tr>\n",
       "      <th>2</th>\n",
       "      <td>1927-03-28</td>\n",
       "      <td>2019-04-23</td>\n",
       "      <td>2024-04-23</td>\n",
       "      <td>11500.0</td>\n",
       "      <td>7388.34</td>\n",
       "      <td>4111.66</td>\n",
       "    </tr>\n",
       "    <tr>\n",
       "      <th>3</th>\n",
       "      <td>1936-01-17</td>\n",
       "      <td>2021-10-27</td>\n",
       "      <td>2026-10-27</td>\n",
       "      <td>68500.0</td>\n",
       "      <td>32060.39</td>\n",
       "      <td>36439.61</td>\n",
       "    </tr>\n",
       "    <tr>\n",
       "      <th>4</th>\n",
       "      <td>1960-09-05</td>\n",
       "      <td>2010-10-02</td>\n",
       "      <td>2015-10-02</td>\n",
       "      <td>72000.0</td>\n",
       "      <td>56148.13</td>\n",
       "      <td>15851.87</td>\n",
       "    </tr>\n",
       "  </tbody>\n",
       "</table>\n",
       "</div>"
      ],
      "text/plain": [
       "  Date_of_birth Opening_date Expiry_date  Credit_limit  Statement_balance  \\\n",
       "0    1949-08-17   2008-09-02  2013-09-02       38000.0           29297.69   \n",
       "1    1938-07-04   2019-09-08  2024-09-08       19500.0           15628.50   \n",
       "2    1927-03-28   2019-04-23  2024-04-23       11500.0            7388.34   \n",
       "3    1936-01-17   2021-10-27  2026-10-27       68500.0           32060.39   \n",
       "4    1960-09-05   2010-10-02  2015-10-02       72000.0           56148.13   \n",
       "\n",
       "   Available_credit  \n",
       "0           8702.31  \n",
       "1           3871.50  \n",
       "2           4111.66  \n",
       "3          36439.61  \n",
       "4          15851.87  "
      ]
     },
     "execution_count": 4,
     "metadata": {},
     "output_type": "execute_result"
    }
   ],
   "source": [
    "data = pd.read_csv('data.csv')\n",
    "data.drop(columns=['Name'], axis=1, inplace=True)\n",
    "data.head()"
   ]
  },
  {
   "cell_type": "code",
   "execution_count": 5,
   "id": "9a8a6ddd",
   "metadata": {
    "scrolled": true
   },
   "outputs": [
    {
     "data": {
      "text/html": [
       "<div>\n",
       "<style scoped>\n",
       "    .dataframe tbody tr th:only-of-type {\n",
       "        vertical-align: middle;\n",
       "    }\n",
       "\n",
       "    .dataframe tbody tr th {\n",
       "        vertical-align: top;\n",
       "    }\n",
       "\n",
       "    .dataframe thead th {\n",
       "        text-align: right;\n",
       "    }\n",
       "</style>\n",
       "<table border=\"1\" class=\"dataframe\">\n",
       "  <thead>\n",
       "    <tr style=\"text-align: right;\">\n",
       "      <th></th>\n",
       "      <th>Client_id</th>\n",
       "      <th>Date_of_birth</th>\n",
       "      <th>Opening_date</th>\n",
       "      <th>Expiry_date</th>\n",
       "      <th>Credit_limit</th>\n",
       "      <th>Statement_balance</th>\n",
       "      <th>Available_credit</th>\n",
       "      <th>Opening</th>\n",
       "      <th>Expiry</th>\n",
       "    </tr>\n",
       "  </thead>\n",
       "  <tbody>\n",
       "    <tr>\n",
       "      <th>0</th>\n",
       "      <td>2008090220130902</td>\n",
       "      <td>1949-08-17</td>\n",
       "      <td>2008-09-02</td>\n",
       "      <td>2013-09-02</td>\n",
       "      <td>38000.0</td>\n",
       "      <td>29297.69</td>\n",
       "      <td>8702.31</td>\n",
       "      <td>20080902</td>\n",
       "      <td>20130902</td>\n",
       "    </tr>\n",
       "    <tr>\n",
       "      <th>1</th>\n",
       "      <td>2019090820240908</td>\n",
       "      <td>1938-07-04</td>\n",
       "      <td>2019-09-08</td>\n",
       "      <td>2024-09-08</td>\n",
       "      <td>19500.0</td>\n",
       "      <td>15628.50</td>\n",
       "      <td>3871.50</td>\n",
       "      <td>20190908</td>\n",
       "      <td>20240908</td>\n",
       "    </tr>\n",
       "    <tr>\n",
       "      <th>2</th>\n",
       "      <td>2019042320240423</td>\n",
       "      <td>1927-03-28</td>\n",
       "      <td>2019-04-23</td>\n",
       "      <td>2024-04-23</td>\n",
       "      <td>11500.0</td>\n",
       "      <td>7388.34</td>\n",
       "      <td>4111.66</td>\n",
       "      <td>20190423</td>\n",
       "      <td>20240423</td>\n",
       "    </tr>\n",
       "    <tr>\n",
       "      <th>3</th>\n",
       "      <td>2021102720261027</td>\n",
       "      <td>1936-01-17</td>\n",
       "      <td>2021-10-27</td>\n",
       "      <td>2026-10-27</td>\n",
       "      <td>68500.0</td>\n",
       "      <td>32060.39</td>\n",
       "      <td>36439.61</td>\n",
       "      <td>20211027</td>\n",
       "      <td>20261027</td>\n",
       "    </tr>\n",
       "    <tr>\n",
       "      <th>4</th>\n",
       "      <td>2010100220151002</td>\n",
       "      <td>1960-09-05</td>\n",
       "      <td>2010-10-02</td>\n",
       "      <td>2015-10-02</td>\n",
       "      <td>72000.0</td>\n",
       "      <td>56148.13</td>\n",
       "      <td>15851.87</td>\n",
       "      <td>20101002</td>\n",
       "      <td>20151002</td>\n",
       "    </tr>\n",
       "  </tbody>\n",
       "</table>\n",
       "</div>"
      ],
      "text/plain": [
       "          Client_id Date_of_birth Opening_date Expiry_date  Credit_limit  \\\n",
       "0  2008090220130902    1949-08-17   2008-09-02  2013-09-02       38000.0   \n",
       "1  2019090820240908    1938-07-04   2019-09-08  2024-09-08       19500.0   \n",
       "2  2019042320240423    1927-03-28   2019-04-23  2024-04-23       11500.0   \n",
       "3  2021102720261027    1936-01-17   2021-10-27  2026-10-27       68500.0   \n",
       "4  2010100220151002    1960-09-05   2010-10-02  2015-10-02       72000.0   \n",
       "\n",
       "   Statement_balance  Available_credit   Opening    Expiry  \n",
       "0           29297.69           8702.31  20080902  20130902  \n",
       "1           15628.50           3871.50  20190908  20240908  \n",
       "2            7388.34           4111.66  20190423  20240423  \n",
       "3           32060.39          36439.61  20211027  20261027  \n",
       "4           56148.13          15851.87  20101002  20151002  "
      ]
     },
     "execution_count": 5,
     "metadata": {},
     "output_type": "execute_result"
    }
   ],
   "source": [
    "data['Opening'] = data['Opening_date'].apply(lambda x: x.replace('-', ''))\n",
    "data['Expiry'] = data['Expiry_date'].apply(lambda x: x.replace('-', ''))\n",
    "data['Client_id'] = data['Opening'] + data['Expiry']\n",
    "data['Client_id'] = data['Client_id'].apply(lambda x: int(x))\n",
    "data['Opening'] = data['Opening'].apply(lambda x: int(x))\n",
    "data['Expiry'] = data['Expiry'].apply(lambda x: int(x))\n",
    "\n",
    "data = data[['Client_id', 'Date_of_birth', 'Opening_date', 'Expiry_date', 'Credit_limit', 'Statement_balance', 'Available_credit', 'Opening', 'Expiry']]\n",
    "\n",
    "data.head()"
   ]
  },
  {
   "cell_type": "code",
   "execution_count": 6,
   "id": "782e1b44",
   "metadata": {
    "scrolled": true
   },
   "outputs": [
    {
     "data": {
      "text/plain": [
       "Client_id              int64\n",
       "Date_of_birth         object\n",
       "Opening_date          object\n",
       "Expiry_date           object\n",
       "Credit_limit         float64\n",
       "Statement_balance    float64\n",
       "Available_credit     float64\n",
       "Opening                int64\n",
       "Expiry                 int64\n",
       "dtype: object"
      ]
     },
     "execution_count": 6,
     "metadata": {},
     "output_type": "execute_result"
    }
   ],
   "source": [
    "data.dtypes"
   ]
  },
  {
   "cell_type": "markdown",
   "id": "7e76fc5a",
   "metadata": {},
   "source": [
    "# Compare Synthetic Data Generated with & without Constraints Applied"
   ]
  },
  {
   "cell_type": "markdown",
   "id": "7976e564",
   "metadata": {},
   "source": [
    "## Generate Synthetic Data with Constraints"
   ]
  },
  {
   "cell_type": "code",
   "execution_count": 7,
   "id": "708643fd",
   "metadata": {
    "scrolled": true
   },
   "outputs": [
    {
     "name": "stdout",
     "output_type": "stream",
     "text": [
      "Date types reformatted and missing values handled successfully!\n",
      "Execution Time: 0.0976 seconds\n",
      "8 relationships detected\n",
      "Execution Time: 0.628 seconds\n",
      "1 relationships detected\n",
      "Execution Time: 1.5079 seconds\n",
      "8 relationships detected\n",
      "Execution Time: 0.6578 seconds\n",
      "2 relationships detected\n",
      "Execution Time: 0.5114 seconds\n"
     ]
    }
   ],
   "source": [
    "d1 = SD_generator(data, inequality_threshold=0.95, arithmetic_equality_threshold=0.95, inclusive_threshold=1.0)\n",
    "d1.preprocess()\n",
    "d1.detect_inequality()\n",
    "d1.detect_arithmetic_equality()\n",
    "d1.detect_arithmetic_inequality()\n",
    "d1.detect_inclusive()"
   ]
  },
  {
   "cell_type": "markdown",
   "id": "d39338ee",
   "metadata": {},
   "source": [
    "### Original Relationships Detected:"
   ]
  },
  {
   "cell_type": "code",
   "execution_count": 8,
   "id": "518a8800",
   "metadata": {},
   "outputs": [
    {
     "name": "stdout",
     "output_type": "stream",
     "text": [
      "Inequality: \n",
      "{'Client_id': ['Expiry'],\n",
      " 'Credit_limit': ['Statement_balance', 'Available_credit'],\n",
      " 'Expiry': ['Opening'],\n",
      " 'Expiry_date': ['Opening_date'],\n",
      " 'Opening': ['Expiry_date', 'Credit_limit'],\n",
      " 'Opening_date': ['Date_of_birth']}\n",
      "Arithmetic Equality: \n",
      "{'Credit_limit': [['Statement_balance', 'Available_credit']]}\n",
      "Arithmetic Inequality: \n",
      "{'Client_id': [['Expiry', 2000010600000000.0]],\n",
      " 'Credit_limit': [['Statement_balance', 3.9400000000023283],\n",
      "                  ['Available_credit', 7.260000000000218]],\n",
      " 'Expiry': [['Opening', 49999.0]],\n",
      " 'Expiry_date': [['Opening_date', 1826.0]],\n",
      " 'Opening': [['Expiry_date', 19961750.0], ['Credit_limit', 19900301.0]],\n",
      " 'Opening_date': [['Date_of_birth', 6599.0]]}\n",
      "Inclusive: \n",
      "{'Client_id': [['Opening', 0], ['Expiry', 8]]}\n"
     ]
    }
   ],
   "source": [
    "print(\"Inequality: \")\n",
    "pprint.pprint(d1.inequality_dict)\n",
    "print(\"Arithmetic Equality: \")\n",
    "pprint.pprint(d1.arithmetic_equality_dict)\n",
    "print(\"Arithmetic Inequality: \")\n",
    "pprint.pprint(d1.arithmetic_inequality_dict)\n",
    "print(\"Inclusive: \")\n",
    "pprint.pprint(d1.inclusive_dict)a"
   ]
  },
  {
   "cell_type": "markdown",
   "id": "21b14c03",
   "metadata": {},
   "source": [
    "### Create Models"
   ]
  },
  {
   "cell_type": "code",
   "execution_count": 9,
   "id": "064fcd8c",
   "metadata": {},
   "outputs": [
    {
     "name": "stdout",
     "output_type": "stream",
     "text": [
      "Constrainsts created successfully!\n",
      "Execution Time: 0.0005 seconds\n",
      "Execution Time for training GaussianCopula: 0.1879 seconds\n",
      "Execution Time for training CTGAN: 51.9239 seconds\n",
      "Execution Time for training CopulaGAN: 45.1873 seconds\n",
      "Execution Time for training TVAE: 17.0022 seconds\n"
     ]
    }
   ],
   "source": [
    "d1.create_constraints(inequality=True, arithmetic_equality=True, arithmetic_inequality=True, inclusive=True)\n",
    "d1.apply_model(\"GaussianCopula\")\n",
    "d1.apply_model(\"CTGAN\")\n",
    "d1.apply_model(\"CopulaGAN\")\n",
    "d1.apply_model(\"TVAE\")"
   ]
  },
  {
   "cell_type": "markdown",
   "id": "a04cfb14",
   "metadata": {},
   "source": [
    "### Generate Synthetic Data"
   ]
  },
  {
   "cell_type": "code",
   "execution_count": 10,
   "id": "fab5cbed",
   "metadata": {},
   "outputs": [
    {
     "name": "stderr",
     "output_type": "stream",
     "text": [
      "Sampling rows: 100%|██████████████████████| 2000/2000 [00:00<00:00, 8095.85it/s]\n"
     ]
    },
    {
     "name": "stdout",
     "output_type": "stream",
     "text": [
      "Synthetic data generated successfully with GaussianCopula model!\n",
      "Execution Time: 0.6402 seconds\n"
     ]
    },
    {
     "name": "stderr",
     "output_type": "stream",
     "text": [
      "Sampling rows: 100%|██████████████████████| 2000/2000 [00:00<00:00, 3248.08it/s]\n"
     ]
    },
    {
     "name": "stdout",
     "output_type": "stream",
     "text": [
      "Synthetic data generated successfully with CTGAN model!\n",
      "Execution Time: 0.9365 seconds\n"
     ]
    },
    {
     "name": "stderr",
     "output_type": "stream",
     "text": [
      "Sampling rows: 100%|██████████████████████| 2000/2000 [00:00<00:00, 2637.19it/s]\n"
     ]
    },
    {
     "name": "stdout",
     "output_type": "stream",
     "text": [
      "Synthetic data generated successfully with CopulaGAN model!\n",
      "Execution Time: 1.0619 seconds\n"
     ]
    },
    {
     "name": "stderr",
     "output_type": "stream",
     "text": [
      "Sampling rows: 100%|██████████████████████| 2000/2000 [00:00<00:00, 8274.58it/s]\n"
     ]
    },
    {
     "name": "stdout",
     "output_type": "stream",
     "text": [
      "Synthetic data generated successfully with TVAE model!\n",
      "Execution Time: 0.5449 seconds\n"
     ]
    }
   ],
   "source": [
    "with_constraint_GaussianCopula = d1.generate(\"GaussianCopula\", num_rows=2000)\n",
    "with_constraint_CTGAN = d1.generate(\"CTGAN\", num_rows=2000)\n",
    "with_constraint_CopulaGAN = d1.generate(\"CopulaGAN\", num_rows=2000)\n",
    "with_constraint_TVAE = d1.generate(\"TVAE\", num_rows=2000)"
   ]
  },
  {
   "cell_type": "markdown",
   "id": "4bbbfbfd",
   "metadata": {},
   "source": [
    "### Detect Relationships on Synthetic Data"
   ]
  },
  {
   "cell_type": "markdown",
   "id": "7b3fa33a",
   "metadata": {},
   "source": [
    "### Synthetic Data Generated using GaussianCopula with constraints"
   ]
  },
  {
   "cell_type": "code",
   "execution_count": 11,
   "id": "8d8969b5",
   "metadata": {},
   "outputs": [
    {
     "name": "stdout",
     "output_type": "stream",
     "text": [
      "Date types reformatted and missing values handled successfully!\n",
      "Execution Time: 0.0021 seconds\n",
      "9 relationships detected\n",
      "Execution Time: 0.613 seconds\n",
      "1 relationships detected\n",
      "Execution Time: 1.4938 seconds\n",
      "9 relationships detected\n",
      "Execution Time: 0.6917 seconds\n",
      "2 relationships detected\n",
      "Execution Time: 0.4964 seconds\n"
     ]
    }
   ],
   "source": [
    "d2 = SD_generator(with_constraint_GaussianCopula, inequality_threshold=0.95, arithmetic_equality_threshold=0.95, inclusive_threshold=1.0)\n",
    "d2.preprocess()\n",
    "d2.detect_inequality()\n",
    "d2.detect_arithmetic_equality()\n",
    "d2.detect_arithmetic_inequality()\n",
    "d2.detect_inclusive()"
   ]
  },
  {
   "cell_type": "markdown",
   "id": "ec15a71c",
   "metadata": {},
   "source": [
    "### New Relationships Detected:"
   ]
  },
  {
   "cell_type": "code",
   "execution_count": 12,
   "id": "d3a69e06",
   "metadata": {},
   "outputs": [
    {
     "name": "stdout",
     "output_type": "stream",
     "text": [
      "Inequality: \n",
      "{'Client_id': ['Expiry'],\n",
      " 'Credit_limit': ['Date_of_birth', 'Statement_balance', 'Available_credit'],\n",
      " 'Expiry': ['Opening'],\n",
      " 'Expiry_date': ['Opening_date'],\n",
      " 'Opening': ['Expiry_date', 'Credit_limit'],\n",
      " 'Opening_date': ['Date_of_birth']}\n",
      "Arithmetic Equality: \n",
      "{'Credit_limit': [['Statement_balance', 'Available_credit']]}\n",
      "Arithmetic Inequality: \n",
      "{'Client_id': [['Expiry', 2010766900000000.0]],\n",
      " 'Credit_limit': [['Date_of_birth', 274.302098961758],\n",
      "                  ['Statement_balance', 17.512694373888735],\n",
      "                  ['Available_credit', 207.61000000000058]],\n",
      " 'Expiry': [['Opening', 50020.0]],\n",
      " 'Expiry_date': [['Opening_date', 1832.2330463282997]],\n",
      " 'Opening': [['Expiry_date', 20065052.0], ['Credit_limit', 19939271.622005597]],\n",
      " 'Opening_date': [['Date_of_birth', 6945.565241307646]]}\n",
      "Inclusive: \n",
      "{'Client_id': [['Opening', 0], ['Expiry', 8]]}\n"
     ]
    }
   ],
   "source": [
    "print(\"Inequality: \")\n",
    "pprint.pprint(d2.inequality_dict)\n",
    "print(\"Arithmetic Equality: \")\n",
    "pprint.pprint(d2.arithmetic_equality_dict)\n",
    "print(\"Arithmetic Inequality: \")\n",
    "pprint.pprint(d2.arithmetic_inequality_dict)\n",
    "print(\"Inclusive: \")\n",
    "pprint.pprint(d2.inclusive_dict)"
   ]
  },
  {
   "cell_type": "markdown",
   "id": "dcdc1b06",
   "metadata": {},
   "source": [
    "### Synthetic Data Generated using CTGAN with constraints"
   ]
  },
  {
   "cell_type": "code",
   "execution_count": 13,
   "id": "0f9276e8",
   "metadata": {},
   "outputs": [
    {
     "name": "stdout",
     "output_type": "stream",
     "text": [
      "Date types reformatted and missing values handled successfully!\n",
      "Execution Time: 0.0042 seconds\n",
      "9 relationships detected\n",
      "Execution Time: 0.6107 seconds\n",
      "1 relationships detected\n",
      "Execution Time: 1.4849 seconds\n",
      "9 relationships detected\n",
      "Execution Time: 0.7043 seconds\n",
      "2 relationships detected\n",
      "Execution Time: 0.5775 seconds\n"
     ]
    }
   ],
   "source": [
    "d3 = SD_generator(with_constraint_CTGAN, inequality_threshold=0.95, arithmetic_equality_threshold=0.95, inclusive_threshold=1.0)\n",
    "d3.preprocess()\n",
    "d3.detect_inequality()\n",
    "d3.detect_arithmetic_equality()\n",
    "d3.detect_arithmetic_inequality()\n",
    "d3.detect_inclusive()"
   ]
  },
  {
   "cell_type": "markdown",
   "id": "96ef21cb",
   "metadata": {},
   "source": [
    "### New Relationships Detected:"
   ]
  },
  {
   "cell_type": "code",
   "execution_count": 14,
   "id": "60a496ce",
   "metadata": {},
   "outputs": [
    {
     "name": "stdout",
     "output_type": "stream",
     "text": [
      "Inequality: \n",
      "{'Client_id': ['Expiry'],\n",
      " 'Credit_limit': ['Statement_balance', 'Available_credit'],\n",
      " 'Expiry': ['Opening'],\n",
      " 'Expiry_date': ['Opening_date', 'Available_credit'],\n",
      " 'Opening': ['Expiry_date', 'Credit_limit'],\n",
      " 'Opening_date': ['Date_of_birth']}\n",
      "Arithmetic Equality: \n",
      "{'Credit_limit': [['Statement_balance', 'Available_credit']]}\n",
      "Arithmetic Inequality: \n",
      "{'Client_id': [['Expiry', 2000165000000000.0]],\n",
      " 'Credit_limit': [['Statement_balance', 3.9400000000023283],\n",
      "                  ['Available_credit', 7.259999999998399]],\n",
      " 'Expiry': [['Opening', 50043.0]],\n",
      " 'Expiry_date': [['Opening_date', 1844.997945750125],\n",
      "                 ['Available_credit', 116.66641086962773]],\n",
      " 'Opening': [['Expiry_date', 19961766.0], ['Credit_limit', 19876956.963397555]],\n",
      " 'Opening_date': [['Date_of_birth', 6603.140113306736]]}\n",
      "Inclusive: \n",
      "{'Client_id': [['Opening', 0], ['Expiry', 8]]}\n"
     ]
    }
   ],
   "source": [
    "print(\"Inequality: \")\n",
    "pprint.pprint(d3.inequality_dict)\n",
    "print(\"Arithmetic Equality: \")\n",
    "pprint.pprint(d3.arithmetic_equality_dict)\n",
    "print(\"Arithmetic Inequality: \")\n",
    "pprint.pprint(d3.arithmetic_inequality_dict)\n",
    "print(\"Inclusive: \")\n",
    "pprint.pprint(d3.inclusive_dict)"
   ]
  },
  {
   "cell_type": "markdown",
   "id": "dad6e25b",
   "metadata": {},
   "source": [
    "### Synthetic Data Generated using CopulaGAN with constraints"
   ]
  },
  {
   "cell_type": "code",
   "execution_count": 15,
   "id": "64fd5363",
   "metadata": {},
   "outputs": [
    {
     "name": "stdout",
     "output_type": "stream",
     "text": [
      "Date types reformatted and missing values handled successfully!\n",
      "Execution Time: 0.0016 seconds\n",
      "8 relationships detected\n",
      "Execution Time: 0.6056 seconds\n",
      "1 relationships detected\n",
      "Execution Time: 1.4417 seconds\n",
      "8 relationships detected\n",
      "Execution Time: 0.601 seconds\n",
      "2 relationships detected\n",
      "Execution Time: 0.3967 seconds\n"
     ]
    }
   ],
   "source": [
    "d4 = SD_generator(with_constraint_CopulaGAN, inequality_threshold=0.95, arithmetic_equality_threshold=0.95, inclusive_threshold=1.0)\n",
    "d4.preprocess()\n",
    "d4.detect_inequality()\n",
    "d4.detect_arithmetic_equality()\n",
    "d4.detect_arithmetic_inequality()\n",
    "d4.detect_inclusive()"
   ]
  },
  {
   "cell_type": "markdown",
   "id": "2d6be5ae",
   "metadata": {},
   "source": [
    "### New Relationships Detected:"
   ]
  },
  {
   "cell_type": "code",
   "execution_count": 16,
   "id": "413da923",
   "metadata": {},
   "outputs": [
    {
     "name": "stdout",
     "output_type": "stream",
     "text": [
      "Inequality: \n",
      "{'Client_id': ['Expiry'],\n",
      " 'Credit_limit': ['Statement_balance', 'Available_credit'],\n",
      " 'Expiry': ['Opening'],\n",
      " 'Expiry_date': ['Opening_date'],\n",
      " 'Opening': ['Expiry_date', 'Credit_limit'],\n",
      " 'Opening_date': ['Date_of_birth']}\n",
      "Arithmetic Equality: \n",
      "{'Credit_limit': [['Statement_balance', 'Available_credit']]}\n",
      "Arithmetic Inequality: \n",
      "{'Client_id': [['Expiry', 2000033000000000.0]],\n",
      " 'Credit_limit': [['Statement_balance', 4.0770120168162975],\n",
      "                  ['Available_credit', 61.1200000000008]],\n",
      " 'Expiry': [['Opening', 50071.0]],\n",
      " 'Expiry_date': [['Opening_date', 1850.2910855689915]],\n",
      " 'Opening': [['Expiry_date', 19961960.0], ['Credit_limit', 19851140.12962596]],\n",
      " 'Opening_date': [['Date_of_birth', 6630.854306798465]]}\n",
      "Inclusive: \n",
      "{'Client_id': [['Opening', 0], ['Expiry', 8]]}\n"
     ]
    }
   ],
   "source": [
    "print(\"Inequality: \")\n",
    "pprint.pprint(d4.inequality_dict)\n",
    "print(\"Arithmetic Equality: \")\n",
    "pprint.pprint(d4.arithmetic_equality_dict)\n",
    "print(\"Arithmetic Inequality: \")\n",
    "pprint.pprint(d4.arithmetic_inequality_dict)\n",
    "print(\"Inclusive: \")\n",
    "pprint.pprint(d4.inclusive_dict)"
   ]
  },
  {
   "cell_type": "markdown",
   "id": "348def27",
   "metadata": {},
   "source": [
    "### Synthetic Data Generated using TVAE with constraints"
   ]
  },
  {
   "cell_type": "code",
   "execution_count": 17,
   "id": "5d09f239",
   "metadata": {},
   "outputs": [
    {
     "name": "stdout",
     "output_type": "stream",
     "text": [
      "Date types reformatted and missing values handled successfully!\n",
      "Execution Time: 0.0028 seconds\n",
      "8 relationships detected\n",
      "Execution Time: 0.6068 seconds\n",
      "1 relationships detected\n",
      "Execution Time: 1.419 seconds\n",
      "8 relationships detected\n",
      "Execution Time: 0.6089 seconds\n",
      "2 relationships detected\n",
      "Execution Time: 0.4872 seconds\n"
     ]
    }
   ],
   "source": [
    "d5 = SD_generator(with_constraint_TVAE, inequality_threshold=0.95, arithmetic_equality_threshold=0.95, inclusive_threshold=1.0)\n",
    "d5.preprocess()\n",
    "d5.detect_inequality()\n",
    "d5.detect_arithmetic_equality()\n",
    "d5.detect_arithmetic_inequality()\n",
    "d5.detect_inclusive()"
   ]
  },
  {
   "cell_type": "markdown",
   "id": "712914bb",
   "metadata": {},
   "source": [
    "### New Relationships Detected:"
   ]
  },
  {
   "cell_type": "code",
   "execution_count": 18,
   "id": "eeebe0a9",
   "metadata": {},
   "outputs": [
    {
     "name": "stdout",
     "output_type": "stream",
     "text": [
      "Inequality: \n",
      "{'Client_id': ['Expiry'],\n",
      " 'Credit_limit': ['Statement_balance', 'Available_credit'],\n",
      " 'Expiry': ['Opening'],\n",
      " 'Expiry_date': ['Opening_date'],\n",
      " 'Opening': ['Expiry_date', 'Credit_limit'],\n",
      " 'Opening_date': ['Date_of_birth']}\n",
      "Arithmetic Equality: \n",
      "{'Credit_limit': [['Statement_balance', 'Available_credit']]}\n",
      "Arithmetic Inequality: \n",
      "{'Client_id': [['Expiry', 2000138600000000.0]],\n",
      " 'Credit_limit': [['Statement_balance', 3.9400000000023283],\n",
      "                  ['Available_credit', 7.259999999994761]],\n",
      " 'Expiry': [['Opening', 50009.0]],\n",
      " 'Expiry_date': [['Opening_date', 1829.5497543957754]],\n",
      " 'Opening': [['Expiry_date', 19961880.0], ['Credit_limit', 19903935.057645496]],\n",
      " 'Opening_date': [['Date_of_birth', 6603.961890450475]]}\n",
      "Inclusive: \n",
      "{'Client_id': [['Opening', 0], ['Expiry', 8]]}\n"
     ]
    }
   ],
   "source": [
    "print(\"Inequality: \")\n",
    "pprint.pprint(d5.inequality_dict)\n",
    "print(\"Arithmetic Equality: \")\n",
    "pprint.pprint(d5.arithmetic_equality_dict)\n",
    "print(\"Arithmetic Inequality: \")\n",
    "pprint.pprint(d5.arithmetic_inequality_dict)\n",
    "print(\"Inclusive: \")\n",
    "pprint.pprint(d5.inclusive_dict)"
   ]
  },
  {
   "cell_type": "markdown",
   "id": "73ce0910",
   "metadata": {},
   "source": [
    "## Generate Synthetic Data without Constraints"
   ]
  },
  {
   "cell_type": "code",
   "execution_count": 19,
   "id": "2d72c36b",
   "metadata": {},
   "outputs": [
    {
     "name": "stdout",
     "output_type": "stream",
     "text": [
      "Date types reformatted and missing values handled successfully!\n",
      "Execution Time: 0.0036 seconds\n",
      "8 relationships detected\n",
      "Execution Time: 0.5975 seconds\n",
      "1 relationships detected\n",
      "Execution Time: 1.4179 seconds\n",
      "8 relationships detected\n",
      "Execution Time: 0.6017 seconds\n",
      "2 relationships detected\n",
      "Execution Time: 0.4931 seconds\n"
     ]
    }
   ],
   "source": [
    "d6 = SD_generator(data, inequality_threshold=0.95, arithmetic_equality_threshold=0.95, inclusive_threshold=1.0)\n",
    "d6.preprocess()\n",
    "d6.detect_inequality()\n",
    "d6.detect_arithmetic_equality()\n",
    "d6.detect_arithmetic_inequality()\n",
    "d6.detect_inclusive()"
   ]
  },
  {
   "cell_type": "markdown",
   "id": "1938187b",
   "metadata": {},
   "source": [
    "### Original Relationships Detected:"
   ]
  },
  {
   "cell_type": "code",
   "execution_count": 20,
   "id": "14dccb8a",
   "metadata": {},
   "outputs": [
    {
     "name": "stdout",
     "output_type": "stream",
     "text": [
      "Inequality: \n",
      "{'Client_id': ['Expiry'],\n",
      " 'Credit_limit': ['Statement_balance', 'Available_credit'],\n",
      " 'Expiry': ['Opening'],\n",
      " 'Expiry_date': ['Opening_date'],\n",
      " 'Opening': ['Expiry_date', 'Credit_limit'],\n",
      " 'Opening_date': ['Date_of_birth']}\n",
      "Arithmetic Equality: \n",
      "{'Credit_limit': [['Statement_balance', 'Available_credit']]}\n",
      "Arithmetic Inequality: \n",
      "{'Client_id': [['Expiry', 2000010600000000.0]],\n",
      " 'Credit_limit': [['Statement_balance', 3.9400000000023283],\n",
      "                  ['Available_credit', 7.260000000000218]],\n",
      " 'Expiry': [['Opening', 49999.0]],\n",
      " 'Expiry_date': [['Opening_date', 1826.0]],\n",
      " 'Opening': [['Expiry_date', 19961750.0], ['Credit_limit', 19900301.0]],\n",
      " 'Opening_date': [['Date_of_birth', 6599.0]]}\n",
      "Inclusive: \n",
      "{'Client_id': [['Opening', 0], ['Expiry', 8]]}\n"
     ]
    }
   ],
   "source": [
    "print(\"Inequality: \")\n",
    "pprint.pprint(d6.inequality_dict)\n",
    "print(\"Arithmetic Equality: \")\n",
    "pprint.pprint(d6.arithmetic_equality_dict)\n",
    "print(\"Arithmetic Inequality: \")\n",
    "pprint.pprint(d6.arithmetic_inequality_dict)\n",
    "print(\"Inclusive: \")\n",
    "pprint.pprint(d6.inclusive_dict)"
   ]
  },
  {
   "cell_type": "markdown",
   "id": "ad8a8aa4",
   "metadata": {},
   "source": [
    "### Create Models"
   ]
  },
  {
   "cell_type": "code",
   "execution_count": 21,
   "id": "f866e113",
   "metadata": {},
   "outputs": [
    {
     "name": "stdout",
     "output_type": "stream",
     "text": [
      "Constrainsts created successfully!\n",
      "Execution Time: 0.0 seconds\n",
      "Execution Time for training GaussianCopula: 0.1602 seconds\n",
      "Execution Time for training CTGAN: 45.3612 seconds\n",
      "Execution Time for training CopulaGAN: 48.0548 seconds\n",
      "Execution Time for training TVAE: 16.539 seconds\n"
     ]
    }
   ],
   "source": [
    "d6.create_constraints(inequality=False, arithmetic_equality=False, arithmetic_inequality=False, inclusive=False)\n",
    "d6.apply_model(\"GaussianCopula\")\n",
    "d6.apply_model(\"CTGAN\")\n",
    "d6.apply_model(\"CopulaGAN\")\n",
    "d6.apply_model(\"TVAE\")"
   ]
  },
  {
   "cell_type": "markdown",
   "id": "80ce1cc4",
   "metadata": {},
   "source": [
    "### Generate Synthetic Data"
   ]
  },
  {
   "cell_type": "code",
   "execution_count": 22,
   "id": "87363822",
   "metadata": {},
   "outputs": [
    {
     "name": "stdout",
     "output_type": "stream",
     "text": [
      "Synthetic data generated successfully with GaussianCopula model!\n",
      "Execution Time: 0.0714 seconds\n",
      "Synthetic data generated successfully with CTGAN model!\n",
      "Execution Time: 0.1057 seconds\n",
      "Synthetic data generated successfully with CopulaGAN model!\n",
      "Execution Time: 0.143 seconds\n",
      "Synthetic data generated successfully with TVAE model!\n",
      "Execution Time: 0.0856 seconds\n"
     ]
    }
   ],
   "source": [
    "without_constraint_GaussianCopula = d6.generate(\"GaussianCopula\", num_rows=2000)\n",
    "without_constraint_CTGAN = d6.generate(\"CTGAN\", num_rows=2000)\n",
    "without_constraint_CopulaGAN = d6.generate(\"CopulaGAN\", num_rows=2000)\n",
    "without_constraint_TVAE = d6.generate(\"TVAE\", num_rows=2000)"
   ]
  },
  {
   "cell_type": "markdown",
   "id": "289a3a90",
   "metadata": {},
   "source": [
    "### Detect Relationships on Synthetic Data"
   ]
  },
  {
   "cell_type": "markdown",
   "id": "784f494a",
   "metadata": {},
   "source": [
    "### Synthetic Data Generated using GaussianCopula without constraints"
   ]
  },
  {
   "cell_type": "code",
   "execution_count": 23,
   "id": "c2214d1c",
   "metadata": {},
   "outputs": [
    {
     "name": "stdout",
     "output_type": "stream",
     "text": [
      "Date types reformatted and missing values handled successfully!\n",
      "Execution Time: 0.0032 seconds\n",
      "8 relationships detected\n",
      "Execution Time: 0.6626 seconds\n",
      "0 relationships detected\n",
      "Execution Time: 1.439 seconds\n",
      "8 relationships detected\n",
      "Execution Time: 0.6181 seconds\n",
      "0 relationships detected\n",
      "Execution Time: 0.5049 seconds\n"
     ]
    }
   ],
   "source": [
    "d7 = SD_generator(without_constraint_GaussianCopula, inequality_threshold=0.95, arithmetic_equality_threshold=0.95, inclusive_threshold=1.0)\n",
    "d7.preprocess()\n",
    "d7.detect_inequality()\n",
    "d7.detect_arithmetic_equality()\n",
    "d7.detect_arithmetic_inequality()\n",
    "d7.detect_inclusive()"
   ]
  },
  {
   "cell_type": "markdown",
   "id": "8e43cfb9",
   "metadata": {},
   "source": [
    "### New Relationships detected:"
   ]
  },
  {
   "cell_type": "code",
   "execution_count": 24,
   "id": "3b68de6a",
   "metadata": {},
   "outputs": [
    {
     "name": "stdout",
     "output_type": "stream",
     "text": [
      "Inequality: \n",
      "{'Client_id': ['Expiry'],\n",
      " 'Expiry': ['Opening'],\n",
      " 'Expiry_date': ['Opening_date'],\n",
      " 'Opening': ['Expiry_date',\n",
      "             'Credit_limit',\n",
      "             'Statement_balance',\n",
      "             'Available_credit'],\n",
      " 'Opening_date': ['Date_of_birth']}\n",
      "Arithmetic Equality: \n",
      "{}\n",
      "Arithmetic Inequality: \n",
      "{'Client_id': [['Expiry', 2000057331829909.0]],\n",
      " 'Expiry': [['Opening', 49089.0]],\n",
      " 'Expiry_date': [['Opening_date', 1820.0]],\n",
      " 'Opening': [['Expiry_date', 19961874.0],\n",
      "             ['Credit_limit', 19901273.0],\n",
      "             ['Statement_balance', 19920305.2],\n",
      "             ['Available_credit', 19910242.860068828]],\n",
      " 'Opening_date': [['Date_of_birth', 907.0]]}\n",
      "Inclusive: \n",
      "{}\n"
     ]
    }
   ],
   "source": [
    "print(\"Inequality: \")\n",
    "pprint.pprint(d7.inequality_dict)\n",
    "print(\"Arithmetic Equality: \")\n",
    "pprint.pprint(d7.arithmetic_equality_dict)\n",
    "print(\"Arithmetic Inequality: \")\n",
    "pprint.pprint(d7.arithmetic_inequality_dict)\n",
    "print(\"Inclusive: \")\n",
    "pprint.pprint(d7.inclusive_dict)"
   ]
  },
  {
   "cell_type": "markdown",
   "id": "46995be0",
   "metadata": {},
   "source": [
    "### Synthetic Data Generated using CTGAN without constraints"
   ]
  },
  {
   "cell_type": "code",
   "execution_count": 25,
   "id": "adbe910c",
   "metadata": {},
   "outputs": [
    {
     "name": "stdout",
     "output_type": "stream",
     "text": [
      "Date types reformatted and missing values handled successfully!\n",
      "Execution Time: 0.0026 seconds\n",
      "14 relationships detected\n",
      "Execution Time: 0.6279 seconds\n",
      "0 relationships detected\n",
      "Execution Time: 1.2947 seconds\n",
      "14 relationships detected\n",
      "Execution Time: 1.0719 seconds\n",
      "0 relationships detected\n",
      "Execution Time: 0.6092 seconds\n"
     ]
    }
   ],
   "source": [
    "d8 = SD_generator(without_constraint_CTGAN, inequality_threshold=0.95, arithmetic_equality_threshold=0.95, inclusive_threshold=1.0)\n",
    "d8.preprocess()\n",
    "d8.detect_inequality()\n",
    "d8.detect_arithmetic_equality()\n",
    "d8.detect_arithmetic_inequality()\n",
    "d8.detect_inclusive()"
   ]
  },
  {
   "cell_type": "markdown",
   "id": "0d7df8b1",
   "metadata": {},
   "source": [
    "### New Relationships detected:"
   ]
  },
  {
   "cell_type": "code",
   "execution_count": 26,
   "id": "6461e5aa",
   "metadata": {},
   "outputs": [
    {
     "name": "stdout",
     "output_type": "stream",
     "text": [
      "Inequality: \n",
      "{'Client_id': ['Opening', 'Expiry'],\n",
      " 'Expiry': ['Opening_date',\n",
      "            'Expiry_date',\n",
      "            'Credit_limit',\n",
      "            'Statement_balance',\n",
      "            'Available_credit'],\n",
      " 'Expiry_date': ['Date_of_birth'],\n",
      " 'Opening': ['Opening_date',\n",
      "             'Expiry_date',\n",
      "             'Credit_limit',\n",
      "             'Statement_balance',\n",
      "             'Available_credit'],\n",
      " 'Opening_date': ['Date_of_birth']}\n",
      "Arithmetic Equality: \n",
      "{}\n",
      "Arithmetic Inequality: \n",
      "{'Client_id': [['Opening', 2000010599831024.0], ['Expiry', 2000010599778876.0]],\n",
      " 'Expiry': [['Opening_date', 20005183.0],\n",
      "            ['Expiry_date', 20003598.0],\n",
      "            ['Credit_limit', 19950106.0],\n",
      "            ['Statement_balance', 19955769.97],\n",
      "            ['Available_credit', 19951337.67]],\n",
      " 'Expiry_date': [['Date_of_birth', 585.0]],\n",
      " 'Opening': [['Opening_date', 19955183.0],\n",
      "             ['Expiry_date', 19953357.0],\n",
      "             ['Credit_limit', 19902867.0],\n",
      "             ['Statement_balance', 19901941.96],\n",
      "             ['Available_credit', 19903398.38921707]],\n",
      " 'Opening_date': [['Date_of_birth', 241.0]]}\n",
      "Inclusive: \n",
      "{}\n"
     ]
    }
   ],
   "source": [
    "print(\"Inequality: \")\n",
    "pprint.pprint(d8.inequality_dict)\n",
    "print(\"Arithmetic Equality: \")\n",
    "pprint.pprint(d8.arithmetic_equality_dict)\n",
    "print(\"Arithmetic Inequality: \")\n",
    "pprint.pprint(d8.arithmetic_inequality_dict)\n",
    "print(\"Inclusive: \")\n",
    "pprint.pprint(d8.inclusive_dict)"
   ]
  },
  {
   "cell_type": "markdown",
   "id": "977b2693",
   "metadata": {},
   "source": [
    "### Synthetic Data Generated using CopulaGAN without constraints"
   ]
  },
  {
   "cell_type": "code",
   "execution_count": 27,
   "id": "4b246cca",
   "metadata": {},
   "outputs": [
    {
     "name": "stdout",
     "output_type": "stream",
     "text": [
      "Date types reformatted and missing values handled successfully!\n",
      "Execution Time: 0.003 seconds\n",
      "14 relationships detected\n",
      "Execution Time: 0.6024 seconds\n",
      "0 relationships detected\n",
      "Execution Time: 1.2435 seconds\n",
      "14 relationships detected\n",
      "Execution Time: 1.0499 seconds\n",
      "0 relationships detected\n",
      "Execution Time: 0.4053 seconds\n"
     ]
    }
   ],
   "source": [
    "d9 = SD_generator(without_constraint_CopulaGAN, inequality_threshold=0.95, arithmetic_equality_threshold=0.95, inclusive_threshold=1.0)\n",
    "d9.preprocess()\n",
    "d9.detect_inequality()\n",
    "d9.detect_arithmetic_equality()\n",
    "d9.detect_arithmetic_inequality()\n",
    "d9.detect_inclusive()"
   ]
  },
  {
   "cell_type": "markdown",
   "id": "dc9d2f00",
   "metadata": {},
   "source": [
    "### New Relationships detected:"
   ]
  },
  {
   "cell_type": "code",
   "execution_count": 28,
   "id": "2dde6508",
   "metadata": {},
   "outputs": [
    {
     "name": "stdout",
     "output_type": "stream",
     "text": [
      "Inequality: \n",
      "{'Client_id': ['Opening', 'Expiry'],\n",
      " 'Expiry': ['Opening_date',\n",
      "            'Expiry_date',\n",
      "            'Credit_limit',\n",
      "            'Statement_balance',\n",
      "            'Available_credit'],\n",
      " 'Expiry_date': ['Date_of_birth'],\n",
      " 'Opening': ['Opening_date',\n",
      "             'Expiry_date',\n",
      "             'Credit_limit',\n",
      "             'Statement_balance',\n",
      "             'Available_credit'],\n",
      " 'Opening_date': ['Date_of_birth']}\n",
      "Arithmetic Equality: \n",
      "{}\n",
      "Arithmetic Inequality: \n",
      "{'Client_id': [['Opening', 2000010601324705.0], ['Expiry', 2000010601216998.0]],\n",
      " 'Expiry': [['Opening_date', 20005503.0],\n",
      "            ['Expiry_date', 20003753.0],\n",
      "            ['Credit_limit', 19952339.0],\n",
      "            ['Statement_balance', 19963040.99],\n",
      "            ['Available_credit', 19960931.59353219]],\n",
      " 'Expiry_date': [['Date_of_birth', 1319.0]],\n",
      " 'Opening': [['Opening_date', 19955269.0],\n",
      "             ['Expiry_date', 19954457.0],\n",
      "             ['Credit_limit', 19900661.0],\n",
      "             ['Statement_balance', 19905387.74],\n",
      "             ['Available_credit', 19904741.113198504]],\n",
      " 'Opening_date': [['Date_of_birth', 706.0]]}\n",
      "Inclusive: \n",
      "{}\n"
     ]
    }
   ],
   "source": [
    "print(\"Inequality: \")\n",
    "pprint.pprint(d9.inequality_dict)\n",
    "print(\"Arithmetic Equality: \")\n",
    "pprint.pprint(d9.arithmetic_equality_dict)\n",
    "print(\"Arithmetic Inequality: \")\n",
    "pprint.pprint(d9.arithmetic_inequality_dict)\n",
    "print(\"Inclusive: \")\n",
    "pprint.pprint(d9.inclusive_dict)"
   ]
  },
  {
   "cell_type": "markdown",
   "id": "eee308f7",
   "metadata": {},
   "source": [
    "### Synthetic Data Generated using TVAE without constraints"
   ]
  },
  {
   "cell_type": "code",
   "execution_count": 29,
   "id": "7040d1a7",
   "metadata": {},
   "outputs": [
    {
     "name": "stdout",
     "output_type": "stream",
     "text": [
      "Date types reformatted and missing values handled successfully!\n",
      "Execution Time: 0.0029 seconds\n",
      "8 relationships detected\n",
      "Execution Time: 0.6041 seconds\n",
      "0 relationships detected\n",
      "Execution Time: 1.3935 seconds\n",
      "8 relationships detected\n",
      "Execution Time: 0.6041 seconds\n",
      "0 relationships detected\n",
      "Execution Time: 0.5712 seconds\n"
     ]
    }
   ],
   "source": [
    "d10 = SD_generator(without_constraint_TVAE, inequality_threshold=0.95, arithmetic_equality_threshold=0.95, inclusive_threshold=1.0)\n",
    "d10.preprocess()\n",
    "d10.detect_inequality()\n",
    "d10.detect_arithmetic_equality()\n",
    "d10.detect_arithmetic_inequality()\n",
    "d10.detect_inclusive()"
   ]
  },
  {
   "cell_type": "markdown",
   "id": "5f63bb48",
   "metadata": {},
   "source": [
    "### New Relationships detected:"
   ]
  },
  {
   "cell_type": "code",
   "execution_count": 30,
   "id": "e4208abb",
   "metadata": {},
   "outputs": [
    {
     "name": "stdout",
     "output_type": "stream",
     "text": [
      "Inequality: \n",
      "{'Client_id': ['Expiry'],\n",
      " 'Expiry': ['Opening'],\n",
      " 'Expiry_date': ['Opening_date'],\n",
      " 'Opening': ['Expiry_date',\n",
      "             'Credit_limit',\n",
      "             'Statement_balance',\n",
      "             'Available_credit'],\n",
      " 'Opening_date': ['Date_of_birth']}\n",
      "Arithmetic Equality: \n",
      "{}\n",
      "Arithmetic Inequality: \n",
      "{'Client_id': [['Expiry', 2000010599907920.0]],\n",
      " 'Expiry': [['Opening', 1823.0]],\n",
      " 'Expiry_date': [['Opening_date', 296.0]],\n",
      " 'Opening': [['Expiry_date', 19957808.0],\n",
      "             ['Credit_limit', 19909166.0],\n",
      "             ['Statement_balance', 19940551.15],\n",
      "             ['Available_credit', 19912392.922545504]],\n",
      " 'Opening_date': [['Date_of_birth', 1134.0]]}\n",
      "Inclusive: \n",
      "{}\n"
     ]
    }
   ],
   "source": [
    "print(\"Inequality: \")\n",
    "pprint.pprint(d10.inequality_dict)\n",
    "print(\"Arithmetic Equality: \")\n",
    "pprint.pprint(d10.arithmetic_equality_dict)\n",
    "print(\"Arithmetic Inequality: \")\n",
    "pprint.pprint(d10.arithmetic_inequality_dict)\n",
    "print(\"Inclusive: \")\n",
    "pprint.pprint(d10.inclusive_dict)"
   ]
  }
 ],
 "metadata": {
  "kernelspec": {
   "display_name": "Python 3 (ipykernel)",
   "language": "python",
   "name": "python3"
  },
  "language_info": {
   "codemirror_mode": {
    "name": "ipython",
    "version": 3
   },
   "file_extension": ".py",
   "mimetype": "text/x-python",
   "name": "python",
   "nbconvert_exporter": "python",
   "pygments_lexer": "ipython3",
   "version": "3.9.13"
  }
 },
 "nbformat": 4,
 "nbformat_minor": 5
}
