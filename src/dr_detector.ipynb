{
 "cells": [
  {
   "cell_type": "code",
   "execution_count": null,
   "id": "245fae1d",
   "metadata": {
    "scrolled": true
   },
   "outputs": [],
   "source": [
    "pip install sdv"
   ]
  },
  {
   "cell_type": "code",
   "execution_count": 352,
   "id": "dc2378a0",
   "metadata": {},
   "outputs": [],
   "source": [
    "import numpy as np\n",
    "import pandas as pd\n",
    "from datetime import datetime as dt\n",
    "import re\n",
    "import time\n",
    "from sdv.tabular import GaussianCopula, CTGAN, CopulaGAN, TVAE\n",
    "from sdv.constraints import Range, ScalarRange, Inequality, ScalarInequality, create_custom_constraint\n",
    "from copy import deepcopy"
   ]
  },
  {
   "cell_type": "code",
   "execution_count": 115,
   "id": "0e81b117",
   "metadata": {},
   "outputs": [
    {
     "data": {
      "text/plain": [
       "<Axes: >"
      ]
     },
     "execution_count": 115,
     "metadata": {},
     "output_type": "execute_result"
    },
    {
     "data": {
      "image/png": "[encoded data removed]",
      "text/plain": [
       "<Figure size 432x288 with 1 Axes>"
      ]
     },
     "metadata": {
      "needs_background": "light"
     },
     "output_type": "display_data"
    }
   ],
   "source": [
    "from sdv.demo import load_tabular_demo\n",
    "employees = load_tabular_demo()\n",
    "employees['age'].hist()"
   ]
  },
  {
   "cell_type": "code",
   "execution_count": 3,
   "id": "5288f8ed",
   "metadata": {},
   "outputs": [],
   "source": [
    "data = pd.read_csv('data.csv')"
   ]
  },
  {
   "cell_type": "code",
   "execution_count": 4,
   "id": "beecac51",
   "metadata": {},
   "outputs": [],
   "source": [
    "data.drop(columns=['Name'], axis=1, inplace=True)"
   ]
  },
  {
   "cell_type": "code",
   "execution_count": 5,
   "id": "0208c0d5",
   "metadata": {},
   "outputs": [
    {
     "data": {
      "text/html": [
       "<div>\n",
       "<style scoped>\n",
       "    .dataframe tbody tr th:only-of-type {\n",
       "        vertical-align: middle;\n",
       "    }\n",
       "\n",
       "    .dataframe tbody tr th {\n",
       "        vertical-align: top;\n",
       "    }\n",
       "\n",
       "    .dataframe thead th {\n",
       "        text-align: right;\n",
       "    }\n",
       "</style>\n",
       "<table border=\"1\" class=\"dataframe\">\n",
       "  <thead>\n",
       "    <tr style=\"text-align: right;\">\n",
       "      <th></th>\n",
       "      <th>Date_of_birth</th>\n",
       "      <th>Opening_date</th>\n",
       "      <th>Expiry_date</th>\n",
       "      <th>Credit_limit</th>\n",
       "      <th>Statement_balance</th>\n",
       "      <th>Available_credit</th>\n",
       "    </tr>\n",
       "  </thead>\n",
       "  <tbody>\n",
       "    <tr>\n",
       "      <th>0</th>\n",
       "      <td>1949-08-17</td>\n",
       "      <td>2008-09-02</td>\n",
       "      <td>2013-09-02</td>\n",
       "      <td>38000.0</td>\n",
       "      <td>29297.69</td>\n",
       "      <td>8702.31</td>\n",
       "    </tr>\n",
       "    <tr>\n",
       "      <th>1</th>\n",
       "      <td>1938-07-04</td>\n",
       "      <td>2019-09-08</td>\n",
       "      <td>2024-09-08</td>\n",
       "      <td>19500.0</td>\n",
       "      <td>15628.50</td>\n",
       "      <td>3871.50</td>\n",
       "    </tr>\n",
       "    <tr>\n",
       "      <th>2</th>\n",
       "      <td>1927-03-28</td>\n",
       "      <td>2019-04-23</td>\n",
       "      <td>2024-04-23</td>\n",
       "      <td>11500.0</td>\n",
       "      <td>7388.34</td>\n",
       "      <td>4111.66</td>\n",
       "    </tr>\n",
       "    <tr>\n",
       "      <th>3</th>\n",
       "      <td>1936-01-17</td>\n",
       "      <td>2021-10-27</td>\n",
       "      <td>2026-10-27</td>\n",
       "      <td>68500.0</td>\n",
       "      <td>32060.39</td>\n",
       "      <td>36439.61</td>\n",
       "    </tr>\n",
       "    <tr>\n",
       "      <th>4</th>\n",
       "      <td>1960-09-05</td>\n",
       "      <td>2010-10-02</td>\n",
       "      <td>2015-10-02</td>\n",
       "      <td>72000.0</td>\n",
       "      <td>56148.13</td>\n",
       "      <td>15851.87</td>\n",
       "    </tr>\n",
       "  </tbody>\n",
       "</table>\n",
       "</div>"
      ],
      "text/plain": [
       "  Date_of_birth Opening_date Expiry_date  Credit_limit  Statement_balance  \\\n",
       "0    1949-08-17   2008-09-02  2013-09-02       38000.0           29297.69   \n",
       "1    1938-07-04   2019-09-08  2024-09-08       19500.0           15628.50   \n",
       "2    1927-03-28   2019-04-23  2024-04-23       11500.0            7388.34   \n",
       "3    1936-01-17   2021-10-27  2026-10-27       68500.0           32060.39   \n",
       "4    1960-09-05   2010-10-02  2015-10-02       72000.0           56148.13   \n",
       "\n",
       "   Available_credit  \n",
       "0           8702.31  \n",
       "1           3871.50  \n",
       "2           4111.66  \n",
       "3          36439.61  \n",
       "4          15851.87  "
      ]
     },
     "execution_count": 5,
     "metadata": {},
     "output_type": "execute_result"
    }
   ],
   "source": [
    "data.head()"
   ]
  },
  {
   "cell_type": "code",
   "execution_count": 6,
   "id": "782e1b44",
   "metadata": {},
   "outputs": [
    {
     "data": {
      "text/plain": [
       "Date_of_birth         object\n",
       "Opening_date          object\n",
       "Expiry_date           object\n",
       "Credit_limit         float64\n",
       "Statement_balance    float64\n",
       "Available_credit     float64\n",
       "dtype: object"
      ]
     },
     "execution_count": 6,
     "metadata": {},
     "output_type": "execute_result"
    }
   ],
   "source": [
    "data.dtypes"
   ]
  },
  {
   "cell_type": "code",
   "execution_count": 711,
   "id": "d9f88a9a",
   "metadata": {},
   "outputs": [],
   "source": [
    "def is_valid_arithmetic_equality(column_names, data):\n",
    "    is_equal = [data[column_names[0]] == data[column_names[1]] + data[column_names[2]]][0]\n",
    "    return is_equal\n",
    "    \n",
    "arithmetic_equality_constraint = create_custom_constraint(is_valid_fn = is_valid_arithmetic_equality)\n",
    "\n",
    "def is_valid_arithmetic_inequality(column_names, data):\n",
    "    is_equal = [data[column_names[0]] >= data[column_names[1]] + column_names[2]][0]\n",
    "    return is_equal\n",
    "\n",
    "arithmetic_inequality_constraint = create_custom_constraint(is_valid_fn = is_valid_arithmetic_inequality)"
   ]
  },
  {
   "cell_type": "code",
   "execution_count": 706,
   "id": "477e9f1d",
   "metadata": {},
   "outputs": [
    {
     "name": "stdout",
     "output_type": "stream",
     "text": [
      "2 relationships detected\n",
      "Execution Time: 1.3496 seconds\n",
      "2 relationships detected\n",
      "Execution Time: 0.4032 seconds\n"
     ]
    },
    {
     "data": {
      "text/plain": [
       "{'Expiry_date': [['Opening_date', 1826.0], ['Date_of_birth', 8425.0]],\n",
       " 'Credit_limit': [['Statement_balance', 3.9400000000023283],\n",
       "  ['Available_credit', 7.260000000000218]]}"
      ]
     },
     "execution_count": 706,
     "metadata": {},
     "output_type": "execute_result"
    }
   ],
   "source": [
    "d = Detector(data, 0.95)\n",
    "d.detect_inequality()\n",
    "d.detect_arithmetic_inequality()\n",
    "d.arithmetic_inequality_dict"
   ]
  },
  {
   "cell_type": "code",
   "execution_count": 707,
   "id": "4187007c",
   "metadata": {},
   "outputs": [
    {
     "data": {
      "text/plain": [
       "[]"
      ]
     },
     "execution_count": 707,
     "metadata": {},
     "output_type": "execute_result"
    }
   ],
   "source": [
    "d.constraints"
   ]
  },
  {
   "cell_type": "code",
   "execution_count": 712,
   "id": "2f890626",
   "metadata": {},
   "outputs": [
    {
     "data": {
      "text/plain": [
       "0       True\n",
       "1       True\n",
       "2       True\n",
       "3       True\n",
       "4       True\n",
       "        ... \n",
       "1995    True\n",
       "1996    True\n",
       "1997    True\n",
       "1998    True\n",
       "1999    True\n",
       "Length: 2000, dtype: bool"
      ]
     },
     "execution_count": 712,
     "metadata": {},
     "output_type": "execute_result"
    }
   ],
   "source": [
    "is_valid_arithmetic_equality(['Credit_limit', 'Statement_balance', 'Available_credit'], d.data)"
   ]
  },
  {
   "cell_type": "code",
   "execution_count": 727,
   "id": "d6e9b5ca",
   "metadata": {},
   "outputs": [],
   "source": [
    "class Detector():\n",
    "    \"\"\"\n",
    "    A class to detect deterministic relationships between two/three columns from a given dataset.\n",
    "\n",
    "    ...\n",
    "\n",
    "    Attributes\n",
    "    ----------\n",
    "    data : Pandas DataFrame\n",
    "        an input dataset in Pandas DataFrame format\n",
    "        \n",
    "    threshold : float\n",
    "        a cut-off percentage for detection functions to confirm the deterministic relationships\n",
    "        \n",
    "    inequality_dict : dictionary\n",
    "        stores inequality deterministic relationships;\n",
    "        in which the key is greater than its values\n",
    "    \n",
    "    arithmetic_equality_dict : dictionary\n",
    "        stores deterministic relationships like \"A = B + C\" among three colomns\n",
    "    \n",
    "    arithmetic_inequality_dict : dictionary\n",
    "        stores deterministic relationships like \"A >= B + X\" between two colomns\n",
    "    \n",
    "    constraints : list\n",
    "        a list containing constraints for synthetic data generation model training\n",
    "        \n",
    "    Methods\n",
    "    -------\n",
    "    preprocess():\n",
    "        Change the dtpyes of date columns to float and \n",
    "        drop the rows of the input dataframe which have missing values.\n",
    "    \n",
    "    detect_inequality():\n",
    "        Detect the inequality deterministic relationship between two colomns.\n",
    "    \n",
    "    detect_arithmetic_equality():\n",
    "        Detect the deterministic relationships like \"A = B + C\" among three colomns.\n",
    "        \n",
    "    detect_arithmetic_inequality():\n",
    "        Detect the deterministic relationships like \"A >= B + X\" between two colomns.\n",
    "        \n",
    "    create_constraints():\n",
    "        Create constraints for synthetic data generation model training.\n",
    "    \"\"\"\n",
    "    def __init__(self, data, threshold, \n",
    "                 inequality_dict={}, inequality_runtime=0,\n",
    "                 arithmetic_equality_dict={}, arithmetic_equality_runtime=0, \n",
    "                 arithmetic_inequality_dict={}, arithmetic_inequality_runtime=0,\n",
    "                 constraints=[]):\n",
    "        \"\"\"\n",
    "        Constructs all the necessary attributes for the person object.\n",
    "\n",
    "        Parameters\n",
    "        ----------\n",
    "            dataframe : Pandas DataFrame\n",
    "                an input dataset in Pandas DataFrame format\n",
    "                \n",
    "            threshold : float\n",
    "                a cut-off percentage for detection functions to confirm the deterministic relationships\n",
    "                \n",
    "            inequality_dict : dictionary\n",
    "                an empty dictionary to store inequality deterministic relationships\n",
    "            \n",
    "            inequality_runtime : float\n",
    "                a variable to store the runtime of inequality detection function\n",
    "    \n",
    "            arithmetic_equality_dict : dictionary\n",
    "                an empty dictionary to store deterministic relationships among three columns like \"A = B + C\"\n",
    "                \n",
    "            arithmetic_equality_runtime : float\n",
    "                a variable to store the runtime of arithmetic equality detection function\n",
    "            \n",
    "            arithmetic_inequality : dictionary\n",
    "                an empty dictionary to store deterministic relationships between two columnslike \"A >= B + X\"\n",
    "                \n",
    "            arithmetic_inequality_runtime : float\n",
    "                a variable to store the runtime of arithmetic inequality detection function\n",
    "            \n",
    "            constarints : list\n",
    "                an empty list to store contraints for synthetic data generation model training\n",
    "        \"\"\"    \n",
    "        self.data = data\n",
    "        self.threshold = threshold\n",
    "        self.inequality_dict = inequality_dict\n",
    "        self.inequality_runtime = inequality_runtime\n",
    "        self.arithmetic_equality_dict = arithmetic_equality_dict\n",
    "        self.arithmetic_equality_runtime = arithmetic_equality_runtime\n",
    "        self.arithmetic_inequality_dict = arithmetic_inequality_dict \n",
    "        self.arithmetic_inequality_runtime = arithmetic_inequality_runtime\n",
    "        self.constraints = constraints\n",
    "        \n",
    "    def preprocess(self):\n",
    "        \"\"\"\n",
    "        Change date columns to float format;\n",
    "        Handle missing values of the input dataframe;\n",
    "        Drop the rows with missing values.\n",
    "        \n",
    "        Returns:\n",
    "            None.\n",
    "        \n",
    "        Output:\n",
    "            Running finished message with execution time.\n",
    "        \"\"\"\n",
    "        st = time.time()\n",
    "        \n",
    "        data = self.data\n",
    "        \n",
    "        ref_dt = pd.Timestamp('1900-01-01')\n",
    "\n",
    "        str2date = lambda x: dt.strptime(x, \"%Y-%m-%d\") - ref_dt if x.replace(\" \", \"\") else np.nan\n",
    "        \n",
    "        for col in data.columns:\n",
    "            \n",
    "            try:\n",
    "                re.match('^[0-9]{4}\\-[0-9]{2}\\-[0-9]{2}$', data[col][0])\n",
    "                \n",
    "                self.data[col] = self.data[col].apply(str2date)\n",
    "                self.data[col] = (self.data[col] / np.timedelta64(1, 'D')).astype(float)\n",
    "                \n",
    "            except:\n",
    "                pass\n",
    "            \n",
    "        data.dropna(axis=0, inplace=True)\n",
    "        self.data = data\n",
    "\n",
    "        et = time.time()\n",
    "        elapsed_time = et - st\n",
    "        print(\"Date types reformatted and missing values handled successfully!\\nExecution Time:\"\n",
    "              , round(elapsed_time, 4), \"seconds\")\n",
    "\n",
    "    def detect_inequality(self):\n",
    "        \"\"\"\n",
    "        Detect the inequality deterministic relationship between colomns;\n",
    "        Update the inequality_dictionary of the class object.\n",
    "        \n",
    "        Returns:\n",
    "            None.\n",
    "        \n",
    "        Output:\n",
    "            Number of relationships detected with execution time.\n",
    "        \"\"\"\n",
    "        st = time.time()\n",
    "        \n",
    "        data = self.data\n",
    "        inequality_dict = {}\n",
    "        \n",
    "    # Looping through all combinitions of columns\n",
    "        for i in range(len(data.columns)):\n",
    "            for j in range(i+1, len(data.columns)):\n",
    "                \n",
    "                # Extract the column pairs in float format\n",
    "                if (data[data.columns[i]].dtypes == 'float' and data[data.columns[j]].dtypes == 'float'):\n",
    "                    diff = []\n",
    "                    count = 0\n",
    "                    for rownum, row in data.iterrows():\n",
    "                        diff.append(row[i] - row[j])\n",
    "                    for num in diff:\n",
    "                        if num < 0:\n",
    "                            count+=1 \n",
    "                    if float(count)/len(diff) >= self.threshold:\n",
    "                        if data.columns[j] in inequality_dict.keys():\n",
    "                            inequality_dict[data.columns[j]].append(data.columns[i])\n",
    "                        else:\n",
    "                            inequality_dict[data.columns[j]] = []\n",
    "                            inequality_dict[data.columns[j]].append(data.columns[i])\n",
    "                    elif float(len(diff) - count)/len(diff) >= self.threshold:\n",
    "                        if data.columns[i] in inequality_dict.keys():\n",
    "                            inequality_dict[data.columns[i]].append(data.columns[j])\n",
    "                        else:\n",
    "                            inequality_dict[data.columns[i]] = []\n",
    "                            inequality_dict[data.columns[i]].append(data.columns[j])\n",
    "        \n",
    "        key_list = []\n",
    "        remove_list = []\n",
    "        \n",
    "        for key in inequality_dict:\n",
    "            for i in key_list:\n",
    "                if i in inequality_dict[key]:\n",
    "                    for j in inequality_dict[i]:\n",
    "                        inequality_dict[key].append(j)\n",
    "                    remove_list.append(i)\n",
    "                    key_list.remove(i)\n",
    "            key_list.append(key)\n",
    "\n",
    "        for i in remove_list:\n",
    "            inequality_dict.pop(i)\n",
    "\n",
    "        for key in inequality_dict:\n",
    "            for i in range(0, len(inequality_dict[key])):\n",
    "                for j in range(i+1, len(inequality_dict[key])):\n",
    "                    if inequality_dict[key][i] == inequality_dict[key][j]:\n",
    "                        inequality_dict[key].pop(i)\n",
    "        \n",
    "    \n",
    "        self.inequality_dict = inequality_dict\n",
    "        \n",
    "        et = time.time()\n",
    "        elapsed_time = et - st\n",
    "        self.inequality_runtime = elapsed_time\n",
    "        \n",
    "        print(len(inequality_dict), \"relationships detected\")\n",
    "        print(\"Execution Time:\", round(self.inequality_runtime, 4), \"seconds\")\n",
    "\n",
    "    def detect_arithmetic_equality(self):\n",
    "        \"\"\"\n",
    "        Detect the deterministic relationships \"A = B + C\" among three columns;\n",
    "        Based on the dictionary of inequality deterministic relationships.\n",
    "        \n",
    "        Returns:\n",
    "            None.\n",
    "        \n",
    "        Output:\n",
    "            Number of relationships detected with execution time.    \n",
    "        \"\"\"\n",
    "        st = time.time()\n",
    "        \n",
    "        data = self.data\n",
    "        arithmetic_equality_dict = {}\n",
    "        \n",
    "        for key in self.inequality_dict:\n",
    "            # Check if the len(the list of values of the key) is >= 2 \n",
    "            if len(self.inequality_dict[key]) >= 2:\n",
    "                for i in range(len(self.inequality_dict[key])):\n",
    "                    for j in range(i+1, len(self.inequality_dict[key])):\n",
    "                        count = 0\n",
    "                        for index, row in data.iterrows():\n",
    "                            if (row[key] == row[self.inequality_dict[key][i]] + row[self.inequality_dict[key][j]]):\n",
    "                                count += 1\n",
    "                        if float(count) / len(data.index) >= self.threshold:\n",
    "                            if key in arithmetic_equality_dict.keys():\n",
    "                                arithmetic_equality_dict[key].append([self.inequality_dict[key][i], self.inequality_dict[key][j]])\n",
    "                            else:\n",
    "                                arithmetic_equality_dict[key] = []\n",
    "                                arithmetic_equality_dict[key].append([self.inequality_dict[key][i], self.inequality_dict[key][j]])\n",
    "                 \n",
    "        self.arithmetic_equality_dict = arithmetic_equality_dict\n",
    "        \n",
    "        et = time.time()\n",
    "        elapsed_time = et - st\n",
    "        self.arithmetic_equality_runtime = elapsed_time\n",
    "        \n",
    "        print(len(arithmetic_equality_dict), \"relationships detected\")\n",
    "        print(\"Execution Time:\", round(self.arithmetic_equality_runtime, 4), \"seconds\")\n",
    "    \n",
    "    def detect_arithmetic_inequality(self):\n",
    "        \"\"\"\n",
    "        Detect the deterministic relationships \"A >= B + X\" between two columns;\n",
    "        Based on the dictionary of inequality deterministic relationships.\n",
    "        \n",
    "        Returns:\n",
    "            None.\n",
    "        \n",
    "        Output:\n",
    "            Number of relationships detected with execution time. \n",
    "        \"\"\"\n",
    "        st = time.time()\n",
    "        \n",
    "        data = self.data\n",
    "        arithmetic_inequality_dict = {}\n",
    "        \n",
    "        for key in self.inequality_dict:\n",
    "            for value in self.inequality_dict[key]:\n",
    "                diff = []\n",
    "                for index, row in data.iterrows():\n",
    "                    diff.append(row[key] - row[value])\n",
    "                    \n",
    "                if key in arithmetic_inequality_dict.keys():\n",
    "                    arithmetic_inequality_dict[key].append([value, min(diff)])\n",
    "                else:\n",
    "                    arithmetic_inequality_dict[key] = []\n",
    "                    arithmetic_inequality_dict[key].append([value, min(diff)])\n",
    "        \n",
    "        self.arithmetic_inequality_dict = arithmetic_inequality_dict\n",
    "            \n",
    "        et = time.time()\n",
    "        elapsed_time = et - st\n",
    "        self.arithmetic_inequality_runtime = elapsed_time\n",
    "        \n",
    "        print(len(arithmetic_inequality_dict), \"relationships detected\")\n",
    "        print(\"Execution Time:\", round(self.arithmetic_inequality_runtime, 4), \"seconds\")\n",
    "    \n",
    "    def create_constraints(self, inequality=False, arithmetic_equality=False, arithmetic_inequality=False):\n",
    "        \"\"\"\n",
    "        Create constraints for synthetic data generation model training.\n",
    "        \n",
    "        Parameters:\n",
    "            inequality: bool, default=True\n",
    "                If True, create constraints for inequality deterministic relationships.\n",
    "            \n",
    "            arithmetic_equality: bool, default=True\n",
    "                If True, create constraints for deterministic relationships like \"A = B + C\".\n",
    "            \n",
    "            arithmetic_inequality: bool, default=True\n",
    "                If True, create constraints for deterministic relationships like \"A >= B + X\".\n",
    "        \n",
    "        Returns:\n",
    "            None.\n",
    "        \n",
    "        Output:\n",
    "            Running finished message with execution time.\n",
    "        \"\"\"\n",
    "        st = time.time()\n",
    "        \n",
    "        if inequality:\n",
    "            for key in self.inequality_dict:\n",
    "                for value in self.inequality_dict[key]:\n",
    "                    self.constraints.append(Inequality(low_column_name=value, high_column_name=key))\n",
    "        \n",
    "        if arithmetic_equality:\n",
    "            for key in self.arithmetic_equality_dict:\n",
    "                for value_list in self.arithmetic_equality_dict[key]:\n",
    "                    columns = [key, value_list[0], value_list[1]]\n",
    "#                     is_valid = is_valid_arithmetic_equality(columns, self.data)\n",
    "                    cons = arithmetic_equality_constraint(column_names=columns)\n",
    "                    self.constraints.append(cons)\n",
    "                    \n",
    "        \n",
    "        if arithmetic_inequality:\n",
    "            for key in self.arithmetic_inequality_dict:\n",
    "                for value_list in self.arithmetic_inequality_dict[key]:\n",
    "                    columns = [key, value_list[0], value_list[1]]\n",
    "#                     constant = value_list[1]\n",
    "#                     is_valid = is_valid_arithmetic_inequality(columns, constant, self.data)\n",
    "                    cons = arithmetic_inequality_constraint(column_names=columns)\n",
    "                    self.constraints.append(cons)\n",
    "        et = time.time()\n",
    "        elapsed_time = et - st\n",
    "        \n",
    "        print(\"Constrainsts created successfully!\\nExecution Time:\"\n",
    "              , round(elapsed_time, 4), \"seconds\")\n",
    "        \n",
    "        \n",
    "        \n",
    "        \n",
    "        "
   ]
  },
  {
   "cell_type": "code",
   "execution_count": 728,
   "id": "6dd575e8",
   "metadata": {},
   "outputs": [],
   "source": [
    "d = Detector(data, 0.95)"
   ]
  },
  {
   "cell_type": "code",
   "execution_count": 729,
   "id": "ba464d91",
   "metadata": {},
   "outputs": [
    {
     "name": "stdout",
     "output_type": "stream",
     "text": [
      "Date types reformatted and missing values handled successfully!\n",
      "Execution Time: 0.0025 seconds\n"
     ]
    }
   ],
   "source": [
    "d.preprocess()"
   ]
  },
  {
   "cell_type": "code",
   "execution_count": 730,
   "id": "221a34c6",
   "metadata": {},
   "outputs": [
    {
     "data": {
      "text/html": [
       "<div>\n",
       "<style scoped>\n",
       "    .dataframe tbody tr th:only-of-type {\n",
       "        vertical-align: middle;\n",
       "    }\n",
       "\n",
       "    .dataframe tbody tr th {\n",
       "        vertical-align: top;\n",
       "    }\n",
       "\n",
       "    .dataframe thead th {\n",
       "        text-align: right;\n",
       "    }\n",
       "</style>\n",
       "<table border=\"1\" class=\"dataframe\">\n",
       "  <thead>\n",
       "    <tr style=\"text-align: right;\">\n",
       "      <th></th>\n",
       "      <th>Date_of_birth</th>\n",
       "      <th>Opening_date</th>\n",
       "      <th>Expiry_date</th>\n",
       "      <th>Credit_limit</th>\n",
       "      <th>Statement_balance</th>\n",
       "      <th>Available_credit</th>\n",
       "    </tr>\n",
       "  </thead>\n",
       "  <tbody>\n",
       "    <tr>\n",
       "      <th>0</th>\n",
       "      <td>18125.0</td>\n",
       "      <td>39691.0</td>\n",
       "      <td>41517.0</td>\n",
       "      <td>38000.0</td>\n",
       "      <td>29297.69</td>\n",
       "      <td>8702.31</td>\n",
       "    </tr>\n",
       "    <tr>\n",
       "      <th>1</th>\n",
       "      <td>14063.0</td>\n",
       "      <td>43714.0</td>\n",
       "      <td>45541.0</td>\n",
       "      <td>19500.0</td>\n",
       "      <td>15628.50</td>\n",
       "      <td>3871.50</td>\n",
       "    </tr>\n",
       "    <tr>\n",
       "      <th>2</th>\n",
       "      <td>9947.0</td>\n",
       "      <td>43576.0</td>\n",
       "      <td>45403.0</td>\n",
       "      <td>11500.0</td>\n",
       "      <td>7388.34</td>\n",
       "      <td>4111.66</td>\n",
       "    </tr>\n",
       "    <tr>\n",
       "      <th>3</th>\n",
       "      <td>13164.0</td>\n",
       "      <td>44494.0</td>\n",
       "      <td>46320.0</td>\n",
       "      <td>68500.0</td>\n",
       "      <td>32060.39</td>\n",
       "      <td>36439.61</td>\n",
       "    </tr>\n",
       "    <tr>\n",
       "      <th>4</th>\n",
       "      <td>22162.0</td>\n",
       "      <td>40451.0</td>\n",
       "      <td>42277.0</td>\n",
       "      <td>72000.0</td>\n",
       "      <td>56148.13</td>\n",
       "      <td>15851.87</td>\n",
       "    </tr>\n",
       "    <tr>\n",
       "      <th>...</th>\n",
       "      <td>...</td>\n",
       "      <td>...</td>\n",
       "      <td>...</td>\n",
       "      <td>...</td>\n",
       "      <td>...</td>\n",
       "      <td>...</td>\n",
       "    </tr>\n",
       "    <tr>\n",
       "      <th>1995</th>\n",
       "      <td>7700.0</td>\n",
       "      <td>41297.0</td>\n",
       "      <td>43123.0</td>\n",
       "      <td>34000.0</td>\n",
       "      <td>14430.69</td>\n",
       "      <td>19569.31</td>\n",
       "    </tr>\n",
       "    <tr>\n",
       "      <th>1996</th>\n",
       "      <td>28938.0</td>\n",
       "      <td>41456.0</td>\n",
       "      <td>43282.0</td>\n",
       "      <td>69500.0</td>\n",
       "      <td>27018.51</td>\n",
       "      <td>42481.49</td>\n",
       "    </tr>\n",
       "    <tr>\n",
       "      <th>1997</th>\n",
       "      <td>23295.0</td>\n",
       "      <td>41951.0</td>\n",
       "      <td>43777.0</td>\n",
       "      <td>68000.0</td>\n",
       "      <td>2701.58</td>\n",
       "      <td>65298.42</td>\n",
       "    </tr>\n",
       "    <tr>\n",
       "      <th>1998</th>\n",
       "      <td>9140.0</td>\n",
       "      <td>39081.0</td>\n",
       "      <td>40907.0</td>\n",
       "      <td>19000.0</td>\n",
       "      <td>2614.15</td>\n",
       "      <td>16385.85</td>\n",
       "    </tr>\n",
       "    <tr>\n",
       "      <th>1999</th>\n",
       "      <td>12809.0</td>\n",
       "      <td>42083.0</td>\n",
       "      <td>43910.0</td>\n",
       "      <td>75000.0</td>\n",
       "      <td>63738.18</td>\n",
       "      <td>11261.82</td>\n",
       "    </tr>\n",
       "  </tbody>\n",
       "</table>\n",
       "<p>2000 rows × 6 columns</p>\n",
       "</div>"
      ],
      "text/plain": [
       "      Date_of_birth  Opening_date  Expiry_date  Credit_limit  \\\n",
       "0           18125.0       39691.0      41517.0       38000.0   \n",
       "1           14063.0       43714.0      45541.0       19500.0   \n",
       "2            9947.0       43576.0      45403.0       11500.0   \n",
       "3           13164.0       44494.0      46320.0       68500.0   \n",
       "4           22162.0       40451.0      42277.0       72000.0   \n",
       "...             ...           ...          ...           ...   \n",
       "1995         7700.0       41297.0      43123.0       34000.0   \n",
       "1996        28938.0       41456.0      43282.0       69500.0   \n",
       "1997        23295.0       41951.0      43777.0       68000.0   \n",
       "1998         9140.0       39081.0      40907.0       19000.0   \n",
       "1999        12809.0       42083.0      43910.0       75000.0   \n",
       "\n",
       "      Statement_balance  Available_credit  \n",
       "0              29297.69           8702.31  \n",
       "1              15628.50           3871.50  \n",
       "2               7388.34           4111.66  \n",
       "3              32060.39          36439.61  \n",
       "4              56148.13          15851.87  \n",
       "...                 ...               ...  \n",
       "1995           14430.69          19569.31  \n",
       "1996           27018.51          42481.49  \n",
       "1997            2701.58          65298.42  \n",
       "1998            2614.15          16385.85  \n",
       "1999           63738.18          11261.82  \n",
       "\n",
       "[2000 rows x 6 columns]"
      ]
     },
     "execution_count": 730,
     "metadata": {},
     "output_type": "execute_result"
    }
   ],
   "source": [
    "d.data"
   ]
  },
  {
   "cell_type": "code",
   "execution_count": 731,
   "id": "e66a0a94",
   "metadata": {
    "scrolled": false
   },
   "outputs": [
    {
     "name": "stdout",
     "output_type": "stream",
     "text": [
      "<class 'pandas.core.frame.DataFrame'>\n",
      "Int64Index: 2000 entries, 0 to 1999\n",
      "Data columns (total 6 columns):\n",
      " #   Column             Non-Null Count  Dtype  \n",
      "---  ------             --------------  -----  \n",
      " 0   Date_of_birth      2000 non-null   float64\n",
      " 1   Opening_date       2000 non-null   float64\n",
      " 2   Expiry_date        2000 non-null   float64\n",
      " 3   Credit_limit       2000 non-null   float64\n",
      " 4   Statement_balance  2000 non-null   float64\n",
      " 5   Available_credit   2000 non-null   float64\n",
      "dtypes: float64(6)\n",
      "memory usage: 109.4 KB\n"
     ]
    }
   ],
   "source": [
    "d.data.info()"
   ]
  },
  {
   "cell_type": "code",
   "execution_count": 732,
   "id": "57f688cb",
   "metadata": {},
   "outputs": [
    {
     "name": "stdout",
     "output_type": "stream",
     "text": [
      "2 relationships detected\n",
      "Execution Time: 1.3293 seconds\n"
     ]
    },
    {
     "data": {
      "text/plain": [
       "{'Expiry_date': ['Opening_date', 'Date_of_birth'],\n",
       " 'Credit_limit': ['Statement_balance', 'Available_credit']}"
      ]
     },
     "execution_count": 732,
     "metadata": {},
     "output_type": "execute_result"
    }
   ],
   "source": [
    "d.detect_inequality()\n",
    "d.inequality_dict"
   ]
  },
  {
   "cell_type": "code",
   "execution_count": 733,
   "id": "564bbc08",
   "metadata": {},
   "outputs": [
    {
     "name": "stdout",
     "output_type": "stream",
     "text": [
      "1 relationships detected\n",
      "Execution Time: 0.2311 seconds\n"
     ]
    },
    {
     "data": {
      "text/plain": [
       "{'Credit_limit': [['Statement_balance', 'Available_credit']]}"
      ]
     },
     "execution_count": 733,
     "metadata": {},
     "output_type": "execute_result"
    }
   ],
   "source": [
    "d.detect_arithmetic_equality()\n",
    "d.arithmetic_equality_dict"
   ]
  },
  {
   "cell_type": "code",
   "execution_count": 734,
   "id": "04f2d125",
   "metadata": {},
   "outputs": [
    {
     "name": "stdout",
     "output_type": "stream",
     "text": [
      "2 relationships detected\n",
      "Execution Time: 0.4094 seconds\n"
     ]
    },
    {
     "data": {
      "text/plain": [
       "{'Expiry_date': [['Opening_date', 1826.0], ['Date_of_birth', 8425.0]],\n",
       " 'Credit_limit': [['Statement_balance', 3.9400000000023283],\n",
       "  ['Available_credit', 7.260000000000218]]}"
      ]
     },
     "execution_count": 734,
     "metadata": {},
     "output_type": "execute_result"
    }
   ],
   "source": [
    "d.detect_arithmetic_inequality()\n",
    "d.arithmetic_inequality_dict"
   ]
  },
  {
   "cell_type": "code",
   "execution_count": 735,
   "id": "f53d9e43",
   "metadata": {},
   "outputs": [
    {
     "name": "stdout",
     "output_type": "stream",
     "text": [
      "Constrainsts created successfully!\n",
      "Execution Time: 0.0002 seconds\n"
     ]
    }
   ],
   "source": [
    "d.create_constraints(inequality=True, arithmetic_equality=False, arithmetic_inequality=False)"
   ]
  },
  {
   "cell_type": "code",
   "execution_count": 736,
   "id": "76dc76eb",
   "metadata": {},
   "outputs": [
    {
     "data": {
      "text/plain": [
       "[<sdv.constraints.tabular.Inequality at 0x7fb410fb6190>,\n",
       " <sdv.constraints.tabular.Inequality at 0x7fb410fb6ee0>,\n",
       " <sdv.constraints.tabular.Inequality at 0x7fb410fb6430>,\n",
       " <sdv.constraints.tabular.Inequality at 0x7fb410fb6f10>]"
      ]
     },
     "execution_count": 736,
     "metadata": {},
     "output_type": "execute_result"
    }
   ],
   "source": [
    "d.constraints"
   ]
  },
  {
   "cell_type": "code",
   "execution_count": 737,
   "id": "84b99b79",
   "metadata": {},
   "outputs": [],
   "source": [
    "model_1 = GaussianCopula(constraints=d.constraints)"
   ]
  },
  {
   "cell_type": "code",
   "execution_count": 738,
   "id": "26b1f051",
   "metadata": {},
   "outputs": [
    {
     "name": "stderr",
     "output_type": "stream",
     "text": [
      "/Users/alexlien/Desktop/anaconda3/lib/python3.8/site-packages/sdv/metadata/table.py:457: UserWarning: Inequality cannot be transformed because columns: ['Expiry_date'] were not found. Using the reject sampling approach instead.\n",
      "  warnings.warn(\n",
      "/Users/alexlien/Desktop/anaconda3/lib/python3.8/site-packages/sdv/metadata/table.py:457: UserWarning: Inequality cannot be transformed because columns: ['Credit_limit'] were not found. Using the reject sampling approach instead.\n",
      "  warnings.warn(\n",
      "/Users/alexlien/Desktop/anaconda3/lib/python3.8/site-packages/rdt/transformers/numerical.py:100: UserWarning: No rounding scheme detected for column 'Available_credit'. Data will not be rounded.\n",
      "  warnings.warn(\n"
     ]
    }
   ],
   "source": [
    "model_1.fit(d.data)"
   ]
  },
  {
   "cell_type": "code",
   "execution_count": 739,
   "id": "5e284650",
   "metadata": {},
   "outputs": [
    {
     "name": "stderr",
     "output_type": "stream",
     "text": [
      "Sampling rows: 100%|██████████| 200/200 [00:00<00:00, 1404.13it/s]\n"
     ]
    }
   ],
   "source": [
    "new_data = model_1.sample(num_rows=200)"
   ]
  },
  {
   "cell_type": "code",
   "execution_count": 740,
   "id": "d0b9e9fd",
   "metadata": {},
   "outputs": [
    {
     "data": {
      "text/html": [
       "<div>\n",
       "<style scoped>\n",
       "    .dataframe tbody tr th:only-of-type {\n",
       "        vertical-align: middle;\n",
       "    }\n",
       "\n",
       "    .dataframe tbody tr th {\n",
       "        vertical-align: top;\n",
       "    }\n",
       "\n",
       "    .dataframe thead th {\n",
       "        text-align: right;\n",
       "    }\n",
       "</style>\n",
       "<table border=\"1\" class=\"dataframe\">\n",
       "  <thead>\n",
       "    <tr style=\"text-align: right;\">\n",
       "      <th></th>\n",
       "      <th>Date_of_birth</th>\n",
       "      <th>Opening_date</th>\n",
       "      <th>Expiry_date</th>\n",
       "      <th>Credit_limit</th>\n",
       "      <th>Statement_balance</th>\n",
       "      <th>Available_credit</th>\n",
       "    </tr>\n",
       "  </thead>\n",
       "  <tbody>\n",
       "    <tr>\n",
       "      <th>0</th>\n",
       "      <td>16136.0</td>\n",
       "      <td>36881.0</td>\n",
       "      <td>38707.222608</td>\n",
       "      <td>43350.255284</td>\n",
       "      <td>37178.44</td>\n",
       "      <td>9654.098640</td>\n",
       "    </tr>\n",
       "    <tr>\n",
       "      <th>1</th>\n",
       "      <td>15958.0</td>\n",
       "      <td>39346.0</td>\n",
       "      <td>41172.223430</td>\n",
       "      <td>107115.865918</td>\n",
       "      <td>49602.17</td>\n",
       "      <td>54793.366912</td>\n",
       "    </tr>\n",
       "    <tr>\n",
       "      <th>2</th>\n",
       "      <td>28833.0</td>\n",
       "      <td>37206.0</td>\n",
       "      <td>39032.224254</td>\n",
       "      <td>37124.217638</td>\n",
       "      <td>36046.01</td>\n",
       "      <td>4407.040984</td>\n",
       "    </tr>\n",
       "    <tr>\n",
       "      <th>3</th>\n",
       "      <td>24003.0</td>\n",
       "      <td>36938.0</td>\n",
       "      <td>38764.223064</td>\n",
       "      <td>51620.441015</td>\n",
       "      <td>38750.69</td>\n",
       "      <td>28462.231252</td>\n",
       "    </tr>\n",
       "    <tr>\n",
       "      <th>4</th>\n",
       "      <td>28237.0</td>\n",
       "      <td>42948.0</td>\n",
       "      <td>44774.223604</td>\n",
       "      <td>121115.224988</td>\n",
       "      <td>56408.40</td>\n",
       "      <td>61478.326952</td>\n",
       "    </tr>\n",
       "  </tbody>\n",
       "</table>\n",
       "</div>"
      ],
      "text/plain": [
       "   Date_of_birth  Opening_date   Expiry_date   Credit_limit  \\\n",
       "0        16136.0       36881.0  38707.222608   43350.255284   \n",
       "1        15958.0       39346.0  41172.223430  107115.865918   \n",
       "2        28833.0       37206.0  39032.224254   37124.217638   \n",
       "3        24003.0       36938.0  38764.223064   51620.441015   \n",
       "4        28237.0       42948.0  44774.223604  121115.224988   \n",
       "\n",
       "   Statement_balance  Available_credit  \n",
       "0           37178.44       9654.098640  \n",
       "1           49602.17      54793.366912  \n",
       "2           36046.01       4407.040984  \n",
       "3           38750.69      28462.231252  \n",
       "4           56408.40      61478.326952  "
      ]
     },
     "execution_count": 740,
     "metadata": {},
     "output_type": "execute_result"
    }
   ],
   "source": [
    "new_data.head()"
   ]
  },
  {
   "cell_type": "code",
   "execution_count": 741,
   "id": "895bd8c9",
   "metadata": {},
   "outputs": [],
   "source": [
    "model_2 = CTGAN(constraints=d.constraints)"
   ]
  },
  {
   "cell_type": "code",
   "execution_count": 742,
   "id": "4500a04b",
   "metadata": {},
   "outputs": [
    {
     "name": "stderr",
     "output_type": "stream",
     "text": [
      "/Users/alexlien/Desktop/anaconda3/lib/python3.8/site-packages/sdv/metadata/table.py:457: UserWarning: Inequality cannot be transformed because columns: ['Expiry_date'] were not found. Using the reject sampling approach instead.\n",
      "  warnings.warn(\n",
      "/Users/alexlien/Desktop/anaconda3/lib/python3.8/site-packages/sdv/metadata/table.py:457: UserWarning: Inequality cannot be transformed because columns: ['Credit_limit'] were not found. Using the reject sampling approach instead.\n",
      "  warnings.warn(\n",
      "/Users/alexlien/Desktop/anaconda3/lib/python3.8/site-packages/rdt/transformers/numerical.py:100: UserWarning: No rounding scheme detected for column 'Available_credit'. Data will not be rounded.\n",
      "  warnings.warn(\n"
     ]
    }
   ],
   "source": [
    "model_2.fit(d.data)"
   ]
  },
  {
   "cell_type": "code",
   "execution_count": 743,
   "id": "81a19ee7",
   "metadata": {},
   "outputs": [
    {
     "name": "stderr",
     "output_type": "stream",
     "text": [
      "Sampling rows: 100%|██████████| 200/200 [00:00<00:00, 1293.29it/s]\n"
     ]
    }
   ],
   "source": [
    "new_data_2 = model_2.sample(num_rows=200)"
   ]
  },
  {
   "cell_type": "code",
   "execution_count": 744,
   "id": "562afa11",
   "metadata": {},
   "outputs": [
    {
     "data": {
      "text/html": [
       "<div>\n",
       "<style scoped>\n",
       "    .dataframe tbody tr th:only-of-type {\n",
       "        vertical-align: middle;\n",
       "    }\n",
       "\n",
       "    .dataframe tbody tr th {\n",
       "        vertical-align: top;\n",
       "    }\n",
       "\n",
       "    .dataframe thead th {\n",
       "        text-align: right;\n",
       "    }\n",
       "</style>\n",
       "<table border=\"1\" class=\"dataframe\">\n",
       "  <thead>\n",
       "    <tr style=\"text-align: right;\">\n",
       "      <th></th>\n",
       "      <th>Date_of_birth</th>\n",
       "      <th>Opening_date</th>\n",
       "      <th>Expiry_date</th>\n",
       "      <th>Credit_limit</th>\n",
       "      <th>Statement_balance</th>\n",
       "      <th>Available_credit</th>\n",
       "    </tr>\n",
       "  </thead>\n",
       "  <tbody>\n",
       "    <tr>\n",
       "      <th>0</th>\n",
       "      <td>19383.0</td>\n",
       "      <td>42783.0</td>\n",
       "      <td>44608.819982</td>\n",
       "      <td>66765.235720</td>\n",
       "      <td>34974.03</td>\n",
       "      <td>1925.989237</td>\n",
       "    </tr>\n",
       "    <tr>\n",
       "      <th>1</th>\n",
       "      <td>22683.0</td>\n",
       "      <td>41212.0</td>\n",
       "      <td>43038.515804</td>\n",
       "      <td>59984.333623</td>\n",
       "      <td>16830.52</td>\n",
       "      <td>7047.503034</td>\n",
       "    </tr>\n",
       "    <tr>\n",
       "      <th>2</th>\n",
       "      <td>25754.0</td>\n",
       "      <td>38166.0</td>\n",
       "      <td>39993.872435</td>\n",
       "      <td>79411.841339</td>\n",
       "      <td>20056.51</td>\n",
       "      <td>10103.063435</td>\n",
       "    </tr>\n",
       "    <tr>\n",
       "      <th>3</th>\n",
       "      <td>10633.0</td>\n",
       "      <td>38235.0</td>\n",
       "      <td>40061.084858</td>\n",
       "      <td>40642.987414</td>\n",
       "      <td>10598.74</td>\n",
       "      <td>5862.481667</td>\n",
       "    </tr>\n",
       "    <tr>\n",
       "      <th>4</th>\n",
       "      <td>31649.0</td>\n",
       "      <td>37208.0</td>\n",
       "      <td>39036.107278</td>\n",
       "      <td>55929.496934</td>\n",
       "      <td>9642.93</td>\n",
       "      <td>21889.421933</td>\n",
       "    </tr>\n",
       "  </tbody>\n",
       "</table>\n",
       "</div>"
      ],
      "text/plain": [
       "   Date_of_birth  Opening_date   Expiry_date  Credit_limit  Statement_balance  \\\n",
       "0        19383.0       42783.0  44608.819982  66765.235720           34974.03   \n",
       "1        22683.0       41212.0  43038.515804  59984.333623           16830.52   \n",
       "2        25754.0       38166.0  39993.872435  79411.841339           20056.51   \n",
       "3        10633.0       38235.0  40061.084858  40642.987414           10598.74   \n",
       "4        31649.0       37208.0  39036.107278  55929.496934            9642.93   \n",
       "\n",
       "   Available_credit  \n",
       "0       1925.989237  \n",
       "1       7047.503034  \n",
       "2      10103.063435  \n",
       "3       5862.481667  \n",
       "4      21889.421933  "
      ]
     },
     "execution_count": 744,
     "metadata": {},
     "output_type": "execute_result"
    }
   ],
   "source": [
    "new_data_2.head()"
   ]
  },
  {
   "cell_type": "code",
   "execution_count": 745,
   "id": "09ff5a03",
   "metadata": {},
   "outputs": [],
   "source": [
    "model_3 = CopulaGAN(constraints=d.constraints)"
   ]
  },
  {
   "cell_type": "code",
   "execution_count": 746,
   "id": "49f0aea3",
   "metadata": {},
   "outputs": [
    {
     "name": "stderr",
     "output_type": "stream",
     "text": [
      "/Users/alexlien/Desktop/anaconda3/lib/python3.8/site-packages/sdv/metadata/table.py:457: UserWarning: Inequality cannot be transformed because columns: ['Expiry_date'] were not found. Using the reject sampling approach instead.\n",
      "  warnings.warn(\n",
      "/Users/alexlien/Desktop/anaconda3/lib/python3.8/site-packages/sdv/metadata/table.py:457: UserWarning: Inequality cannot be transformed because columns: ['Credit_limit'] were not found. Using the reject sampling approach instead.\n",
      "  warnings.warn(\n",
      "/Users/alexlien/Desktop/anaconda3/lib/python3.8/site-packages/rdt/transformers/numerical.py:100: UserWarning: No rounding scheme detected for column 'Available_credit'. Data will not be rounded.\n",
      "  warnings.warn(\n"
     ]
    }
   ],
   "source": [
    "model_3.fit(d.data)"
   ]
  },
  {
   "cell_type": "code",
   "execution_count": 747,
   "id": "01c1cf9b",
   "metadata": {},
   "outputs": [
    {
     "name": "stderr",
     "output_type": "stream",
     "text": [
      "Sampling rows: 100%|██████████| 200/200 [00:00<00:00, 1063.22it/s]\n"
     ]
    }
   ],
   "source": [
    "new_data_3 = model_3.sample(num_rows=200)"
   ]
  },
  {
   "cell_type": "code",
   "execution_count": 748,
   "id": "fc94f01c",
   "metadata": {},
   "outputs": [
    {
     "data": {
      "text/html": [
       "<div>\n",
       "<style scoped>\n",
       "    .dataframe tbody tr th:only-of-type {\n",
       "        vertical-align: middle;\n",
       "    }\n",
       "\n",
       "    .dataframe tbody tr th {\n",
       "        vertical-align: top;\n",
       "    }\n",
       "\n",
       "    .dataframe thead th {\n",
       "        text-align: right;\n",
       "    }\n",
       "</style>\n",
       "<table border=\"1\" class=\"dataframe\">\n",
       "  <thead>\n",
       "    <tr style=\"text-align: right;\">\n",
       "      <th></th>\n",
       "      <th>Date_of_birth</th>\n",
       "      <th>Opening_date</th>\n",
       "      <th>Expiry_date</th>\n",
       "      <th>Credit_limit</th>\n",
       "      <th>Statement_balance</th>\n",
       "      <th>Available_credit</th>\n",
       "    </tr>\n",
       "  </thead>\n",
       "  <tbody>\n",
       "    <tr>\n",
       "      <th>0</th>\n",
       "      <td>5644.0</td>\n",
       "      <td>38963.0</td>\n",
       "      <td>40788.527587</td>\n",
       "      <td>22023.162882</td>\n",
       "      <td>13951.75</td>\n",
       "      <td>19086.076969</td>\n",
       "    </tr>\n",
       "    <tr>\n",
       "      <th>1</th>\n",
       "      <td>7078.0</td>\n",
       "      <td>37711.0</td>\n",
       "      <td>39536.477999</td>\n",
       "      <td>101526.993888</td>\n",
       "      <td>40847.21</td>\n",
       "      <td>30370.530805</td>\n",
       "    </tr>\n",
       "    <tr>\n",
       "      <th>2</th>\n",
       "      <td>18423.0</td>\n",
       "      <td>40895.0</td>\n",
       "      <td>42719.943388</td>\n",
       "      <td>65875.401893</td>\n",
       "      <td>38679.54</td>\n",
       "      <td>1891.858947</td>\n",
       "    </tr>\n",
       "    <tr>\n",
       "      <th>3</th>\n",
       "      <td>37048.0</td>\n",
       "      <td>44912.0</td>\n",
       "      <td>46738.479735</td>\n",
       "      <td>32853.988864</td>\n",
       "      <td>31445.70</td>\n",
       "      <td>17678.075412</td>\n",
       "    </tr>\n",
       "    <tr>\n",
       "      <th>4</th>\n",
       "      <td>34986.0</td>\n",
       "      <td>41158.0</td>\n",
       "      <td>42983.496276</td>\n",
       "      <td>6325.944376</td>\n",
       "      <td>154.51</td>\n",
       "      <td>542.673475</td>\n",
       "    </tr>\n",
       "  </tbody>\n",
       "</table>\n",
       "</div>"
      ],
      "text/plain": [
       "   Date_of_birth  Opening_date   Expiry_date   Credit_limit  \\\n",
       "0         5644.0       38963.0  40788.527587   22023.162882   \n",
       "1         7078.0       37711.0  39536.477999  101526.993888   \n",
       "2        18423.0       40895.0  42719.943388   65875.401893   \n",
       "3        37048.0       44912.0  46738.479735   32853.988864   \n",
       "4        34986.0       41158.0  42983.496276    6325.944376   \n",
       "\n",
       "   Statement_balance  Available_credit  \n",
       "0           13951.75      19086.076969  \n",
       "1           40847.21      30370.530805  \n",
       "2           38679.54       1891.858947  \n",
       "3           31445.70      17678.075412  \n",
       "4             154.51        542.673475  "
      ]
     },
     "execution_count": 748,
     "metadata": {},
     "output_type": "execute_result"
    }
   ],
   "source": [
    "new_data_3.head()"
   ]
  },
  {
   "cell_type": "code",
   "execution_count": 749,
   "id": "4891dcfb",
   "metadata": {},
   "outputs": [],
   "source": [
    "model_4 = TVAE(constraints=d.constraints)"
   ]
  },
  {
   "cell_type": "code",
   "execution_count": 751,
   "id": "1f53c4c3",
   "metadata": {},
   "outputs": [
    {
     "name": "stderr",
     "output_type": "stream",
     "text": [
      "/Users/alexlien/Desktop/anaconda3/lib/python3.8/site-packages/sdv/metadata/table.py:457: UserWarning: Inequality cannot be transformed because columns: ['Expiry_date'] were not found. Using the reject sampling approach instead.\n",
      "  warnings.warn(\n",
      "/Users/alexlien/Desktop/anaconda3/lib/python3.8/site-packages/sdv/metadata/table.py:457: UserWarning: Inequality cannot be transformed because columns: ['Credit_limit'] were not found. Using the reject sampling approach instead.\n",
      "  warnings.warn(\n",
      "/Users/alexlien/Desktop/anaconda3/lib/python3.8/site-packages/rdt/transformers/numerical.py:100: UserWarning: No rounding scheme detected for column 'Available_credit'. Data will not be rounded.\n",
      "  warnings.warn(\n"
     ]
    }
   ],
   "source": [
    "model_4.fit(d.data)"
   ]
  },
  {
   "cell_type": "code",
   "execution_count": 752,
   "id": "0001fc1c",
   "metadata": {},
   "outputs": [
    {
     "name": "stderr",
     "output_type": "stream",
     "text": [
      "Sampling rows: 100%|██████████| 200/200 [00:00<00:00, 1333.15it/s]\n"
     ]
    }
   ],
   "source": [
    "new_data_4 = model_4.sample(num_rows=200)"
   ]
  },
  {
   "cell_type": "code",
   "execution_count": 753,
   "id": "b310a671",
   "metadata": {},
   "outputs": [
    {
     "data": {
      "text/html": [
       "<div>\n",
       "<style scoped>\n",
       "    .dataframe tbody tr th:only-of-type {\n",
       "        vertical-align: middle;\n",
       "    }\n",
       "\n",
       "    .dataframe tbody tr th {\n",
       "        vertical-align: top;\n",
       "    }\n",
       "\n",
       "    .dataframe thead th {\n",
       "        text-align: right;\n",
       "    }\n",
       "</style>\n",
       "<table border=\"1\" class=\"dataframe\">\n",
       "  <thead>\n",
       "    <tr style=\"text-align: right;\">\n",
       "      <th></th>\n",
       "      <th>Date_of_birth</th>\n",
       "      <th>Opening_date</th>\n",
       "      <th>Expiry_date</th>\n",
       "      <th>Credit_limit</th>\n",
       "      <th>Statement_balance</th>\n",
       "      <th>Available_credit</th>\n",
       "    </tr>\n",
       "  </thead>\n",
       "  <tbody>\n",
       "    <tr>\n",
       "      <th>0</th>\n",
       "      <td>34442.0</td>\n",
       "      <td>44072.0</td>\n",
       "      <td>45897.632554</td>\n",
       "      <td>44301.458652</td>\n",
       "      <td>7.26</td>\n",
       "      <td>43628.095956</td>\n",
       "    </tr>\n",
       "    <tr>\n",
       "      <th>1</th>\n",
       "      <td>6342.0</td>\n",
       "      <td>38574.0</td>\n",
       "      <td>40399.582449</td>\n",
       "      <td>7409.296975</td>\n",
       "      <td>3636.24</td>\n",
       "      <td>5099.439006</td>\n",
       "    </tr>\n",
       "    <tr>\n",
       "      <th>2</th>\n",
       "      <td>24203.0</td>\n",
       "      <td>42831.0</td>\n",
       "      <td>44656.212013</td>\n",
       "      <td>39784.537142</td>\n",
       "      <td>24292.73</td>\n",
       "      <td>8786.339947</td>\n",
       "    </tr>\n",
       "    <tr>\n",
       "      <th>3</th>\n",
       "      <td>23934.0</td>\n",
       "      <td>43144.0</td>\n",
       "      <td>44970.455597</td>\n",
       "      <td>29577.805343</td>\n",
       "      <td>25175.84</td>\n",
       "      <td>6020.243722</td>\n",
       "    </tr>\n",
       "    <tr>\n",
       "      <th>4</th>\n",
       "      <td>9978.0</td>\n",
       "      <td>41494.0</td>\n",
       "      <td>43320.572573</td>\n",
       "      <td>48288.265216</td>\n",
       "      <td>6262.34</td>\n",
       "      <td>39522.402626</td>\n",
       "    </tr>\n",
       "  </tbody>\n",
       "</table>\n",
       "</div>"
      ],
      "text/plain": [
       "   Date_of_birth  Opening_date   Expiry_date  Credit_limit  Statement_balance  \\\n",
       "0        34442.0       44072.0  45897.632554  44301.458652               7.26   \n",
       "1         6342.0       38574.0  40399.582449   7409.296975            3636.24   \n",
       "2        24203.0       42831.0  44656.212013  39784.537142           24292.73   \n",
       "3        23934.0       43144.0  44970.455597  29577.805343           25175.84   \n",
       "4         9978.0       41494.0  43320.572573  48288.265216            6262.34   \n",
       "\n",
       "   Available_credit  \n",
       "0      43628.095956  \n",
       "1       5099.439006  \n",
       "2       8786.339947  \n",
       "3       6020.243722  \n",
       "4      39522.402626  "
      ]
     },
     "execution_count": 753,
     "metadata": {},
     "output_type": "execute_result"
    }
   ],
   "source": [
    "new_data_4.head()"
   ]
  }
 ],
 "metadata": {
  "kernelspec": {
   "display_name": "Python 3",
   "language": "python",
   "name": "python3"
  },
  "language_info": {
   "codemirror_mode": {
    "name": "ipython",
    "version": 3
   },
   "file_extension": ".py",
   "mimetype": "text/x-python",
   "name": "python",
   "nbconvert_exporter": "python",
   "pygments_lexer": "ipython3",
   "version": "3.8.8"
  }
 },
 "nbformat": 4,
 "nbformat_minor": 5
}
